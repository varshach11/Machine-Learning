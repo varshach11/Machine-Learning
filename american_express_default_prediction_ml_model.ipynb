{
  "cells": [
    {
      "cell_type": "markdown",
      "id": "3f221a6f",
      "metadata": {
        "papermill": {
          "duration": 0.02697,
          "end_time": "2023-03-15T16:38:57.962530",
          "exception": false,
          "start_time": "2023-03-15T16:38:57.935560",
          "status": "completed"
        },
        "tags": [],
        "id": "3f221a6f"
      },
      "source": [
        "---\n",
        "# Introduction\n",
        "\n",
        "---"
      ]
    },
    {
      "cell_type": "markdown",
      "id": "36be1409",
      "metadata": {
        "papermill": {
          "duration": 0.021715,
          "end_time": "2023-03-15T16:38:58.006948",
          "exception": false,
          "start_time": "2023-03-15T16:38:57.985233",
          "status": "completed"
        },
        "tags": [],
        "id": "36be1409"
      },
      "source": [
        "**Problem Statement:**\n",
        "\n",
        "* Whether out at a restaurant or buying tickets to a concert, modern life counts on the convenience of a credit card to make daily purchases. It saves us from carrying large amounts of cash and also can advance a full purchase that can be paid over time.\n",
        "* How do card issuers know we’ll pay back what we charge? That’s a complex problem with many existing solutions—and even more potential improvements, to be explored in this competition.\n",
        "* Credit default prediction is central to managing risk in a consumer lending business. \n",
        " * Credit default prediction allows lenders to optimize lending decisions, which leads to a better customer experience and sound business economics. \n",
        "* Current models exist to help manage risk. But it's possible to create better models that can outperform those currently in use.\n",
        "\n",
        "* The objective of this competition is to predict the probability that a customer does not pay back their credit card balance amount in the future based on their monthly customer profile. \n",
        " * The target binary variable is calculated by observing 18 months performance window after the latest credit card statement, and if the customer does not pay due amount in 120 days after their latest statement date it is considered a default event."
      ]
    },
    {
      "cell_type": "markdown",
      "id": "881da091",
      "metadata": {
        "papermill": {
          "duration": 0.021569,
          "end_time": "2023-03-15T16:38:58.050432",
          "exception": false,
          "start_time": "2023-03-15T16:38:58.028863",
          "status": "completed"
        },
        "tags": [],
        "id": "881da091"
      },
      "source": [
        "---\n",
        "**Importing Libraries:**\n",
        "* To get started we will use Python for data pre-processing and model building.\n",
        "* Import python libraries as necessary to get started for data load and later import other libraries as needed\n",
        "---"
      ]
    },
    {
      "cell_type": "code",
      "execution_count": null,
      "id": "24f259d5",
      "metadata": {
        "_kg_hide-input": true,
        "execution": {
          "iopub.execute_input": "2023-03-15T16:38:58.096777Z",
          "iopub.status.busy": "2023-03-15T16:38:58.096133Z",
          "iopub.status.idle": "2023-03-15T16:39:00.536345Z",
          "shell.execute_reply": "2023-03-15T16:39:00.535346Z"
        },
        "papermill": {
          "duration": 2.467321,
          "end_time": "2023-03-15T16:39:00.539653",
          "exception": false,
          "start_time": "2023-03-15T16:38:58.072332",
          "status": "completed"
        },
        "tags": [],
        "id": "24f259d5"
      },
      "outputs": [],
      "source": [
        "import numpy as np \n",
        "# data processing, CSV file I/O \n",
        "import pandas as pd \n",
        "# data processing, CSV file I/O\n",
        "import dask.dataframe as dd\n",
        "# module finds all the pathnames matching a specified pattern\n",
        "import glob \n",
        "import os\n",
        "# importing pyplot interface using matplotlib\n",
        "import matplotlib.pyplot as plt \n",
        "# importing seaborn library for interactive visualization\n",
        "import seaborn as sns \n",
        "# Importing WordCloud for text data visualization\n",
        "from wordcloud import WordCloud\n",
        "# importing matplotlib for plots\n",
        "import matplotlib\n",
        "# importing datetime for using datetime\n",
        "from datetime import datetime\n",
        "# importing plotly for interactive plots\n",
        "import plotly.express as px\n",
        "# importing missingno for missing value plot\n",
        "import missingno as msno\n",
        "# importing regex library for use of regex\n",
        "import re\n",
        "# importing Counter for counting :)\n",
        "from collections import Counter\n",
        "\n",
        "import plotly.graph_objs as go"
      ]
    },
    {
      "cell_type": "code",
      "execution_count": null,
      "id": "acaea945",
      "metadata": {
        "_kg_hide-input": true,
        "execution": {
          "iopub.execute_input": "2023-03-15T16:39:00.587291Z",
          "iopub.status.busy": "2023-03-15T16:39:00.586886Z",
          "iopub.status.idle": "2023-03-15T16:39:01.117291Z",
          "shell.execute_reply": "2023-03-15T16:39:01.116285Z"
        },
        "papermill": {
          "duration": 0.55699,
          "end_time": "2023-03-15T16:39:01.120288",
          "exception": false,
          "start_time": "2023-03-15T16:39:00.563298",
          "status": "completed"
        },
        "tags": [],
        "id": "acaea945"
      },
      "outputs": [],
      "source": [
        "# importing SimpleImputer for handling missing value\n",
        "from sklearn.impute import SimpleImputer\n",
        "# importing MissingIndicator for handling missing value\n",
        "from sklearn.impute import MissingIndicator\n",
        "# importing StandardScaler for standardization\n",
        "from sklearn.preprocessing import StandardScaler\n",
        "# importing OnHotEncoder for encoding categorical variable\n",
        "from sklearn.preprocessing import OneHotEncoder\n",
        "# importing for transformation\n",
        "from sklearn.compose import ColumnTransformer\n",
        "from sklearn.compose import make_column_transformer\n",
        "from sklearn.compose import make_column_selector\n",
        "# importing PCA for handling dimensonality reduction\n",
        "from sklearn.decomposition import PCA\n",
        "\n",
        "# importing pipeline for chaining model building activities\n",
        "#from sklearn.pipeline import Pipeline\n",
        "#from sklearn.pipeline import make_pipeline\n",
        "from imblearn.pipeline import Pipeline\n",
        "from imblearn.pipeline import make_pipeline as mp\n",
        "# importing FeatureUnion for combining transformers\n",
        "from sklearn.pipeline import FeatureUnion\n",
        "\n",
        "# importing samplers for handling data imbalance\n",
        "from imblearn.combine import SMOTEENN \n",
        "from imblearn.over_sampling import SMOTE\n",
        "from imblearn.over_sampling import RandomOverSampler \n",
        "from imblearn.under_sampling import RandomUnderSampler \n",
        "\n",
        "# importing train_test_split for train and validation split\n",
        "from sklearn.model_selection import train_test_split\n",
        "# importing SelectFromModel to select features from model \n",
        "from sklearn.feature_selection import SelectFromModel               "
      ]
    },
    {
      "cell_type": "code",
      "execution_count": null,
      "id": "1fd0c965",
      "metadata": {
        "_kg_hide-input": true,
        "execution": {
          "iopub.execute_input": "2023-03-15T16:39:01.168071Z",
          "iopub.status.busy": "2023-03-15T16:39:01.167632Z",
          "iopub.status.idle": "2023-03-15T16:39:01.766319Z",
          "shell.execute_reply": "2023-03-15T16:39:01.765233Z"
        },
        "papermill": {
          "duration": 0.626347,
          "end_time": "2023-03-15T16:39:01.769660",
          "exception": false,
          "start_time": "2023-03-15T16:39:01.143313",
          "status": "completed"
        },
        "tags": [],
        "id": "1fd0c965",
        "outputId": "a66f45b3-0f10-4369-f404-41be3eb870f4"
      },
      "outputs": [
        {
          "data": {
            "text/html": [
              "<style type='text/css'>\n",
              ".datatable table.frame { margin-bottom: 0; }\n",
              ".datatable table.frame thead { border-bottom: none; }\n",
              ".datatable table.frame tr.coltypes td {  color: #FFFFFF;  line-height: 6px;  padding: 0 0.5em;}\n",
              ".datatable .bool    { background: #DDDD99; }\n",
              ".datatable .object  { background: #565656; }\n",
              ".datatable .int     { background: #5D9E5D; }\n",
              ".datatable .float   { background: #4040CC; }\n",
              ".datatable .str     { background: #CC4040; }\n",
              ".datatable .time    { background: #40CC40; }\n",
              ".datatable .row_index {  background: var(--jp-border-color3);  border-right: 1px solid var(--jp-border-color0);  color: var(--jp-ui-font-color3);  font-size: 9px;}\n",
              ".datatable .frame tbody td { text-align: left; }\n",
              ".datatable .frame tr.coltypes .row_index {  background: var(--jp-border-color0);}\n",
              ".datatable th:nth-child(2) { padding-left: 12px; }\n",
              ".datatable .hellipsis {  color: var(--jp-cell-editor-border-color);}\n",
              ".datatable .vellipsis {  background: var(--jp-layout-color0);  color: var(--jp-cell-editor-border-color);}\n",
              ".datatable .na {  color: var(--jp-cell-editor-border-color);  font-size: 80%;}\n",
              ".datatable .sp {  opacity: 0.25;}\n",
              ".datatable .footer { font-size: 9px; }\n",
              ".datatable .frame_dimensions {  background: var(--jp-border-color3);  border-top: 1px solid var(--jp-border-color0);  color: var(--jp-ui-font-color3);  display: inline-block;  opacity: 0.6;  padding: 1px 10px 1px 5px;}\n",
              "</style>\n"
            ],
            "text/plain": [
              "<IPython.core.display.HTML object>"
            ]
          },
          "metadata": {},
          "output_type": "display_data"
        }
      ],
      "source": [
        "# importing classifiers to try with\n",
        "from sklearn.linear_model import LogisticRegression\n",
        "from sklearn.tree import DecisionTreeClassifier\n",
        "from sklearn.ensemble import RandomForestClassifier\n",
        "from sklearn.naive_bayes import GaussianNB\n",
        "from sklearn.neighbors import KNeighborsClassifier\n",
        "from sklearn.ensemble import AdaBoostClassifier\n",
        "from sklearn.ensemble import GradientBoostingClassifier\n",
        "from xgboost import XGBClassifier\n",
        "from lightgbm import LGBMClassifier\n",
        "from catboost import CatBoostClassifier\n",
        "\n",
        "# importing metrics required for model evaluation\n",
        "from sklearn.metrics import accuracy_score\n",
        "from sklearn.metrics import precision_score\n",
        "from sklearn.metrics import recall_score\n",
        "from sklearn.metrics import f1_score\n",
        "from sklearn.metrics import classification_report\n",
        "from sklearn.metrics import make_scorer\n",
        "from sklearn.metrics import confusion_matrix\n",
        "from sklearn.metrics import ConfusionMatrixDisplay\n",
        "\n",
        "# importing RepeatedKFold for cross validation\n",
        "from sklearn.model_selection import RepeatedKFold\n",
        "# importing for model evaluation\n",
        "from sklearn.model_selection import cross_validate\n",
        "from sklearn.model_selection import cross_val_predict\n",
        "from sklearn.model_selection import cross_val_score\n",
        "from sklearn.model_selection import validation_curve\n",
        "# importing RepeatedStratifiedKFold for model evaluation\n",
        "from sklearn.model_selection import RepeatedStratifiedKFold\n",
        "# importing GridSearchCV for hyperparameter tuning\n",
        "from sklearn.model_selection import GridSearchCV\n",
        "from sklearn.model_selection import RandomizedSearchCV\n",
        "from yellowbrick.model_selection import ValidationCurve"
      ]
    },
    {
      "cell_type": "markdown",
      "id": "c694b4b9",
      "metadata": {
        "papermill": {
          "duration": 0.022744,
          "end_time": "2023-03-15T16:39:01.815181",
          "exception": false,
          "start_time": "2023-03-15T16:39:01.792437",
          "status": "completed"
        },
        "tags": [],
        "id": "c694b4b9"
      },
      "source": [
        "---\n",
        "# Dataset Load\n",
        "---"
      ]
    },
    {
      "cell_type": "markdown",
      "id": "bf99c753",
      "metadata": {
        "papermill": {
          "duration": 0.022141,
          "end_time": "2023-03-15T16:39:01.859830",
          "exception": false,
          "start_time": "2023-03-15T16:39:01.837689",
          "status": "completed"
        },
        "tags": [],
        "id": "bf99c753"
      },
      "source": [
        "**Dataset:**\n",
        "\n",
        "* **train_data.csv** - training data with multiple statement dates per customer_ID\n",
        "* **train_labels.csv** - target label for each customer_ID\n",
        "* **test_data.csv** - corresponding test data; objective is to predict the target label for each customer_ID\n",
        "* **sample_submission.csv** - a sample submission file in the correct format\n",
        "\n",
        "---"
      ]
    },
    {
      "cell_type": "markdown",
      "id": "b42c354e",
      "metadata": {
        "papermill": {
          "duration": 0.022246,
          "end_time": "2023-03-15T16:39:01.905280",
          "exception": false,
          "start_time": "2023-03-15T16:39:01.883034",
          "status": "completed"
        },
        "tags": [],
        "id": "b42c354e"
      },
      "source": [
        "Let us check size of dataset CSV file"
      ]
    },
    {
      "cell_type": "code",
      "execution_count": null,
      "id": "d80011e4",
      "metadata": {
        "_kg_hide-input": true,
        "execution": {
          "iopub.execute_input": "2023-03-15T16:39:01.951839Z",
          "iopub.status.busy": "2023-03-15T16:39:01.951426Z",
          "iopub.status.idle": "2023-03-15T16:39:01.963451Z",
          "shell.execute_reply": "2023-03-15T16:39:01.961626Z"
        },
        "papermill": {
          "duration": 0.039024,
          "end_time": "2023-03-15T16:39:01.966365",
          "exception": false,
          "start_time": "2023-03-15T16:39:01.927341",
          "status": "completed"
        },
        "tags": [],
        "id": "d80011e4",
        "outputId": "c3e811b9-2f86-4d7d-85a4-798e14ad851f"
      },
      "outputs": [
        {
          "name": "stdout",
          "output_type": "stream",
          "text": [
            "/kaggle/input/amex-default-prediction/sample_submission.csv size is 59.1 MB bytes\n",
            "/kaggle/input/amex-default-prediction/train_data.csv size is 15.3 GB bytes\n",
            "/kaggle/input/amex-default-prediction/test_data.csv size is 31.5 GB bytes\n",
            "/kaggle/input/amex-default-prediction/train_labels.csv size is 29.3 MB bytes\n"
          ]
        }
      ],
      "source": [
        "# calculate file size in KB, MB, GB\n",
        "def convert_bytes(size):\n",
        "    \"\"\" Convert bytes to KB, or MB or GB\"\"\"\n",
        "    for x in ['bytes', 'KB', 'MB', 'GB', 'TB']:\n",
        "        if size < 1024.0:\n",
        "            return \"%3.1f %s\" % (size, x)\n",
        "        size /= 1024.0\n",
        "\n",
        "# display CSV file with size\n",
        "for dirname, _, filenames in os.walk('/kaggle/input'):\n",
        "    for filename in filenames:\n",
        "        csvfile=os.path.join(dirname, filename)\n",
        "        csvfilesize = os.path.getsize(csvfile)\n",
        "        filesize = convert_bytes(csvfilesize)\n",
        "        print(f'{csvfile} size is', filesize, 'bytes')"
      ]
    },
    {
      "cell_type": "code",
      "execution_count": null,
      "id": "b3da4b1a",
      "metadata": {
        "_kg_hide-input": true,
        "execution": {
          "iopub.execute_input": "2023-03-15T16:39:02.014037Z",
          "iopub.status.busy": "2023-03-15T16:39:02.013608Z",
          "iopub.status.idle": "2023-03-15T16:39:02.018740Z",
          "shell.execute_reply": "2023-03-15T16:39:02.017616Z"
        },
        "papermill": {
          "duration": 0.031929,
          "end_time": "2023-03-15T16:39:02.021232",
          "exception": false,
          "start_time": "2023-03-15T16:39:01.989303",
          "status": "completed"
        },
        "tags": [],
        "id": "b3da4b1a"
      },
      "outputs": [],
      "source": [
        "from pathlib import Path\n",
        "\n",
        "input_path = Path('/kaggle/input/amex-default-prediction/')"
      ]
    },
    {
      "cell_type": "markdown",
      "id": "fc2e6fe7",
      "metadata": {
        "papermill": {
          "duration": 0.022004,
          "end_time": "2023-03-15T16:39:02.065310",
          "exception": false,
          "start_time": "2023-03-15T16:39:02.043306",
          "status": "completed"
        },
        "tags": [],
        "id": "fc2e6fe7"
      },
      "source": [
        "---\n",
        "Considering large number of rows around 5.5 million in **train_data.csv** dataset, using nrows option to load first 100k rows from dataset file for Model building.\n",
        "\n",
        "---"
      ]
    },
    {
      "cell_type": "markdown",
      "id": "bc59b43c",
      "metadata": {
        "papermill": {
          "duration": 0.021632,
          "end_time": "2023-03-15T16:39:02.108967",
          "exception": false,
          "start_time": "2023-03-15T16:39:02.087335",
          "status": "completed"
        },
        "tags": [],
        "id": "bc59b43c"
      },
      "source": [
        "---\n",
        "Will try to leverage outcome based on EDA done so far\n",
        "\n",
        "https://www.kaggle.com/code/girishkumarsahu/american-express-default-prediction-eda\n",
        "\n",
        "---"
      ]
    },
    {
      "cell_type": "markdown",
      "id": "74eb053d",
      "metadata": {
        "papermill": {
          "duration": 0.021697,
          "end_time": "2023-03-15T16:39:02.152735",
          "exception": false,
          "start_time": "2023-03-15T16:39:02.131038",
          "status": "completed"
        },
        "tags": [],
        "id": "74eb053d"
      },
      "source": [
        "Load train_data.csv dataset file using nrows=100000"
      ]
    },
    {
      "cell_type": "code",
      "execution_count": null,
      "id": "e20a3426",
      "metadata": {
        "_kg_hide-input": true,
        "execution": {
          "iopub.execute_input": "2023-03-15T16:39:02.200114Z",
          "iopub.status.busy": "2023-03-15T16:39:02.199063Z",
          "iopub.status.idle": "2023-03-15T16:39:10.823363Z",
          "shell.execute_reply": "2023-03-15T16:39:10.822334Z"
        },
        "papermill": {
          "duration": 8.650629,
          "end_time": "2023-03-15T16:39:10.826149",
          "exception": false,
          "start_time": "2023-03-15T16:39:02.175520",
          "status": "completed"
        },
        "tags": [],
        "id": "e20a3426"
      },
      "outputs": [],
      "source": [
        "# Loading dataset train_data.csv\n",
        "train_df_sample = pd.read_csv('../input/amex-default-prediction/train_data.csv', nrows=100000)"
      ]
    },
    {
      "cell_type": "code",
      "execution_count": null,
      "id": "2b277ede",
      "metadata": {
        "_kg_hide-input": true,
        "execution": {
          "iopub.execute_input": "2023-03-15T16:39:10.873560Z",
          "iopub.status.busy": "2023-03-15T16:39:10.873090Z",
          "iopub.status.idle": "2023-03-15T16:39:11.077844Z",
          "shell.execute_reply": "2023-03-15T16:39:11.076668Z"
        },
        "papermill": {
          "duration": 0.232812,
          "end_time": "2023-03-15T16:39:11.081485",
          "exception": false,
          "start_time": "2023-03-15T16:39:10.848673",
          "status": "completed"
        },
        "tags": [],
        "id": "2b277ede",
        "outputId": "bc1dc0c8-e580-4304-9e3f-5e131a1a78e2"
      },
      "outputs": [
        {
          "name": "stdout",
          "output_type": "stream",
          "text": [
            "Shape of dataset is: (100000, 190)\n",
            "<class 'pandas.core.frame.DataFrame'>\n",
            "RangeIndex: 100000 entries, 0 to 99999\n",
            "Columns: 190 entries, customer_ID to D_145\n",
            "dtypes: float64(185), int64(1), object(4)\n",
            "memory usage: 145.0+ MB\n"
          ]
        }
      ],
      "source": [
        "# get shape of dataframe\n",
        "print('Shape of dataset is:', train_df_sample.shape)\n",
        "\n",
        "# print summary of dataframe\n",
        "train_df_sample.info()"
      ]
    },
    {
      "cell_type": "markdown",
      "id": "994c92e9",
      "metadata": {
        "papermill": {
          "duration": 0.022,
          "end_time": "2023-03-15T16:39:11.126930",
          "exception": false,
          "start_time": "2023-03-15T16:39:11.104930",
          "status": "completed"
        },
        "tags": [],
        "id": "994c92e9"
      },
      "source": [
        "**Observations:**\n",
        "\n",
        "* There are total 190 variables in train_data.csv dataset\n",
        "    * There are 185 variables(Columns) as dtype float64, 1 variable(Column) as dtype int64 and 4 variables(Columns) as dtype object"
      ]
    },
    {
      "cell_type": "markdown",
      "id": "d97578c8",
      "metadata": {
        "papermill": {
          "duration": 0.022121,
          "end_time": "2023-03-15T16:39:11.171538",
          "exception": false,
          "start_time": "2023-03-15T16:39:11.149417",
          "status": "completed"
        },
        "tags": [],
        "id": "d97578c8"
      },
      "source": [
        "---\n",
        "Need to load **train_labels.csv** for customer_ID with target label as 1 for Default and 0 for Not Default\n",
        "\n",
        "---"
      ]
    },
    {
      "cell_type": "code",
      "execution_count": null,
      "id": "772efea0",
      "metadata": {
        "_kg_hide-input": true,
        "execution": {
          "iopub.execute_input": "2023-03-15T16:39:11.219220Z",
          "iopub.status.busy": "2023-03-15T16:39:11.218739Z",
          "iopub.status.idle": "2023-03-15T16:39:12.253727Z",
          "shell.execute_reply": "2023-03-15T16:39:12.251926Z"
        },
        "papermill": {
          "duration": 1.063333,
          "end_time": "2023-03-15T16:39:12.257343",
          "exception": false,
          "start_time": "2023-03-15T16:39:11.194010",
          "status": "completed"
        },
        "tags": [],
        "id": "772efea0"
      },
      "outputs": [],
      "source": [
        "# Loading dataset train_labels.csv\n",
        "train_label_df = pd.read_csv('../input/amex-default-prediction/train_labels.csv')"
      ]
    },
    {
      "cell_type": "code",
      "execution_count": null,
      "id": "6504ff72",
      "metadata": {
        "_kg_hide-input": true,
        "execution": {
          "iopub.execute_input": "2023-03-15T16:39:12.304558Z",
          "iopub.status.busy": "2023-03-15T16:39:12.303463Z",
          "iopub.status.idle": "2023-03-15T16:39:12.342620Z",
          "shell.execute_reply": "2023-03-15T16:39:12.341707Z"
        },
        "papermill": {
          "duration": 0.065921,
          "end_time": "2023-03-15T16:39:12.345631",
          "exception": false,
          "start_time": "2023-03-15T16:39:12.279710",
          "status": "completed"
        },
        "tags": [],
        "id": "6504ff72",
        "outputId": "51206cdb-76ff-406f-c3f1-a91b2cb4cc49"
      },
      "outputs": [
        {
          "name": "stdout",
          "output_type": "stream",
          "text": [
            "Shape of dataset is: (458913, 2)\n",
            "<class 'pandas.core.frame.DataFrame'>\n",
            "RangeIndex: 458913 entries, 0 to 458912\n",
            "Data columns (total 2 columns):\n",
            " #   Column       Non-Null Count   Dtype \n",
            "---  ------       --------------   ----- \n",
            " 0   customer_ID  458913 non-null  object\n",
            " 1   target       458913 non-null  int64 \n",
            "dtypes: int64(1), object(1)\n",
            "memory usage: 7.0+ MB\n"
          ]
        }
      ],
      "source": [
        "# get shape of dataframe\n",
        "print('Shape of dataset is:', train_label_df.shape)\n",
        "\n",
        "# print summary of dataframe\n",
        "train_label_df.info()"
      ]
    },
    {
      "cell_type": "markdown",
      "id": "a7e7f070",
      "metadata": {
        "papermill": {
          "duration": 0.022157,
          "end_time": "2023-03-15T16:39:12.390841",
          "exception": false,
          "start_time": "2023-03-15T16:39:12.368684",
          "status": "completed"
        },
        "tags": [],
        "id": "a7e7f070"
      },
      "source": [
        "**Observations:**\n",
        "\n",
        "* There are total 458,913 entries for target label with customer_ID\n",
        "* There is variable (column) customer_ID which has dtype as object and variable (column) target which has dtype as int64"
      ]
    },
    {
      "cell_type": "markdown",
      "id": "c6444e9d",
      "metadata": {
        "papermill": {
          "duration": 0.022251,
          "end_time": "2023-03-15T16:39:12.435657",
          "exception": false,
          "start_time": "2023-03-15T16:39:12.413406",
          "status": "completed"
        },
        "tags": [],
        "id": "c6444e9d"
      },
      "source": [
        "---\n",
        "Using nrows option to load first 100k rows from **test_data.csv** dataset file. Set customer_ID as index.\n",
        "\n",
        "---"
      ]
    },
    {
      "cell_type": "code",
      "execution_count": null,
      "id": "ac8e442b",
      "metadata": {
        "_kg_hide-input": true,
        "execution": {
          "iopub.execute_input": "2023-03-15T16:39:12.483715Z",
          "iopub.status.busy": "2023-03-15T16:39:12.483239Z",
          "iopub.status.idle": "2023-03-15T16:39:22.916453Z",
          "shell.execute_reply": "2023-03-15T16:39:22.915332Z"
        },
        "papermill": {
          "duration": 10.461068,
          "end_time": "2023-03-15T16:39:22.919337",
          "exception": false,
          "start_time": "2023-03-15T16:39:12.458269",
          "status": "completed"
        },
        "tags": [],
        "id": "ac8e442b"
      },
      "outputs": [],
      "source": [
        "# Loading dataset test_data.csv\n",
        "test_df = pd.read_csv('../input/amex-default-prediction/test_data.csv', nrows=100000, index_col='customer_ID')"
      ]
    },
    {
      "cell_type": "code",
      "execution_count": null,
      "id": "7aa75e48",
      "metadata": {
        "_kg_hide-input": true,
        "execution": {
          "iopub.execute_input": "2023-03-15T16:39:22.967182Z",
          "iopub.status.busy": "2023-03-15T16:39:22.965957Z",
          "iopub.status.idle": "2023-03-15T16:39:22.986281Z",
          "shell.execute_reply": "2023-03-15T16:39:22.984431Z"
        },
        "papermill": {
          "duration": 0.0483,
          "end_time": "2023-03-15T16:39:22.990392",
          "exception": false,
          "start_time": "2023-03-15T16:39:22.942092",
          "status": "completed"
        },
        "tags": [],
        "id": "7aa75e48",
        "outputId": "f45a5376-04cd-479e-8ce9-f5b22b9d0f3f"
      },
      "outputs": [
        {
          "name": "stdout",
          "output_type": "stream",
          "text": [
            "Shape of dataset is: (100000, 189)\n",
            "<class 'pandas.core.frame.DataFrame'>\n",
            "Index: 100000 entries, 00000469ba478561f23a92a868bd366de6f6527a684c9a2e78fb826dcac3b9b7 to 0246c7eb137ed9b08014d66e29caf1772b0512becef11a1eda0948b8b8908576\n",
            "Columns: 189 entries, S_2 to D_145\n",
            "dtypes: float64(185), int64(1), object(3)\n",
            "memory usage: 145.0+ MB\n"
          ]
        }
      ],
      "source": [
        "# get shape of dataframe\n",
        "print('Shape of dataset is:', test_df.shape)\n",
        "\n",
        "# print summary of dataframe\n",
        "#test_df.info(verbose=True)\n",
        "test_df.info()"
      ]
    },
    {
      "cell_type": "markdown",
      "id": "b4cc1980",
      "metadata": {
        "papermill": {
          "duration": 0.022279,
          "end_time": "2023-03-15T16:39:23.036269",
          "exception": false,
          "start_time": "2023-03-15T16:39:23.013990",
          "status": "completed"
        },
        "tags": [],
        "id": "b4cc1980"
      },
      "source": [
        "**Observation:**\n",
        "\n",
        "* There are 185 variables(Columns) as dtype float64, 1 variable(Column) as dtype int64 and 4 variables(Columns) as dtype object, same structure as train_data.csv"
      ]
    },
    {
      "cell_type": "markdown",
      "id": "953d273a",
      "metadata": {
        "papermill": {
          "duration": 0.021943,
          "end_time": "2023-03-15T16:39:23.080775",
          "exception": false,
          "start_time": "2023-03-15T16:39:23.058832",
          "status": "completed"
        },
        "tags": [],
        "id": "953d273a"
      },
      "source": [
        "---\n",
        "Need to merge train_labels dataset with train_data dataset for target label.\n",
        "\n",
        "---"
      ]
    },
    {
      "cell_type": "code",
      "execution_count": null,
      "id": "d440fe89",
      "metadata": {
        "_kg_hide-input": true,
        "execution": {
          "iopub.execute_input": "2023-03-15T16:39:23.127461Z",
          "iopub.status.busy": "2023-03-15T16:39:23.127013Z",
          "iopub.status.idle": "2023-03-15T16:39:23.717817Z",
          "shell.execute_reply": "2023-03-15T16:39:23.716557Z"
        },
        "papermill": {
          "duration": 0.617693,
          "end_time": "2023-03-15T16:39:23.720888",
          "exception": false,
          "start_time": "2023-03-15T16:39:23.103195",
          "status": "completed"
        },
        "tags": [],
        "id": "d440fe89"
      },
      "outputs": [],
      "source": [
        "# Merge of train_df_sample and train_label_df dataframe using key as customer_ID\n",
        "train_df = pd.merge(train_df_sample, train_label_df, how=\"inner\", on=[\"customer_ID\"])"
      ]
    },
    {
      "cell_type": "code",
      "execution_count": null,
      "id": "5913f70a",
      "metadata": {
        "_kg_hide-input": true,
        "execution": {
          "iopub.execute_input": "2023-03-15T16:39:23.769055Z",
          "iopub.status.busy": "2023-03-15T16:39:23.768178Z",
          "iopub.status.idle": "2023-03-15T16:39:23.788184Z",
          "shell.execute_reply": "2023-03-15T16:39:23.786929Z"
        },
        "papermill": {
          "duration": 0.047651,
          "end_time": "2023-03-15T16:39:23.791307",
          "exception": false,
          "start_time": "2023-03-15T16:39:23.743656",
          "status": "completed"
        },
        "tags": [],
        "id": "5913f70a",
        "outputId": "cff7c69d-d19a-47cd-a68f-c101eccf5724"
      },
      "outputs": [
        {
          "name": "stdout",
          "output_type": "stream",
          "text": [
            "<class 'pandas.core.frame.DataFrame'>\n",
            "Int64Index: 100000 entries, 0 to 99999\n",
            "Columns: 191 entries, customer_ID to target\n",
            "dtypes: float64(185), int64(2), object(4)\n",
            "memory usage: 146.5+ MB\n"
          ]
        }
      ],
      "source": [
        "# print summary of merged dataframe\n",
        "train_df.info()"
      ]
    },
    {
      "cell_type": "markdown",
      "id": "4180c838",
      "metadata": {
        "papermill": {
          "duration": 0.022359,
          "end_time": "2023-03-15T16:39:23.836477",
          "exception": false,
          "start_time": "2023-03-15T16:39:23.814118",
          "status": "completed"
        },
        "tags": [],
        "id": "4180c838"
      },
      "source": [
        "Drop customer_ID and S_2 variable in train_data and drop S_2 variable in test_data which are not required for ML model building"
      ]
    },
    {
      "cell_type": "code",
      "execution_count": null,
      "id": "f09fb4ea",
      "metadata": {
        "_kg_hide-input": true,
        "execution": {
          "iopub.execute_input": "2023-03-15T16:39:23.883551Z",
          "iopub.status.busy": "2023-03-15T16:39:23.883124Z",
          "iopub.status.idle": "2023-03-15T16:39:24.222772Z",
          "shell.execute_reply": "2023-03-15T16:39:24.221401Z"
        },
        "papermill": {
          "duration": 0.366337,
          "end_time": "2023-03-15T16:39:24.225524",
          "exception": false,
          "start_time": "2023-03-15T16:39:23.859187",
          "status": "completed"
        },
        "tags": [],
        "id": "f09fb4ea"
      },
      "outputs": [],
      "source": [
        "#drop customer_ID and S_2 from train_df dataframe which are not required for model building\n",
        "train_df.drop(axis=1, columns=['customer_ID','S_2'], inplace=True)"
      ]
    },
    {
      "cell_type": "code",
      "execution_count": null,
      "id": "6d3e0d69",
      "metadata": {
        "_kg_hide-input": true,
        "execution": {
          "iopub.execute_input": "2023-03-15T16:39:24.272734Z",
          "iopub.status.busy": "2023-03-15T16:39:24.272289Z",
          "iopub.status.idle": "2023-03-15T16:39:24.336281Z",
          "shell.execute_reply": "2023-03-15T16:39:24.335064Z"
        },
        "papermill": {
          "duration": 0.090741,
          "end_time": "2023-03-15T16:39:24.339048",
          "exception": false,
          "start_time": "2023-03-15T16:39:24.248307",
          "status": "completed"
        },
        "tags": [],
        "id": "6d3e0d69"
      },
      "outputs": [],
      "source": [
        "#drop S_2 in test_df dataframe which is not required for model building\n",
        "test_df.drop(axis=1, columns=['S_2'], inplace=True)"
      ]
    },
    {
      "cell_type": "markdown",
      "id": "92ac8ab5",
      "metadata": {
        "papermill": {
          "duration": 0.022842,
          "end_time": "2023-03-15T16:39:24.385042",
          "exception": false,
          "start_time": "2023-03-15T16:39:24.362200",
          "status": "completed"
        },
        "tags": [],
        "id": "92ac8ab5"
      },
      "source": [
        "---\n",
        "**Q: Is there any duplicate row in train dataset sample?**\n",
        "\n",
        "---"
      ]
    },
    {
      "cell_type": "code",
      "execution_count": null,
      "id": "b02e5d87",
      "metadata": {
        "_kg_hide-input": true,
        "execution": {
          "iopub.execute_input": "2023-03-15T16:39:24.433627Z",
          "iopub.status.busy": "2023-03-15T16:39:24.433190Z",
          "iopub.status.idle": "2023-03-15T16:39:26.294217Z",
          "shell.execute_reply": "2023-03-15T16:39:26.293362Z"
        },
        "papermill": {
          "duration": 1.888549,
          "end_time": "2023-03-15T16:39:26.297092",
          "exception": false,
          "start_time": "2023-03-15T16:39:24.408543",
          "status": "completed"
        },
        "tags": [],
        "id": "b02e5d87",
        "outputId": "7152f50e-1c75-4193-b651-4fd76b3eb7e7"
      },
      "outputs": [
        {
          "name": "stdout",
          "output_type": "stream",
          "text": [
            "No\n"
          ]
        }
      ],
      "source": [
        "#check if any duplicate row\n",
        "if (any(train_df.duplicated())):\n",
        "    print(\"Yes\")\n",
        "else:\n",
        "    print(\"No\")"
      ]
    },
    {
      "cell_type": "markdown",
      "id": "bd645ba6",
      "metadata": {
        "papermill": {
          "duration": 0.022181,
          "end_time": "2023-03-15T16:39:26.343295",
          "exception": false,
          "start_time": "2023-03-15T16:39:26.321114",
          "status": "completed"
        },
        "tags": [],
        "id": "bd645ba6"
      },
      "source": [
        "---\n",
        "**Q: Is there any duplicate row in test dataset sample?**\n",
        "\n",
        "---"
      ]
    },
    {
      "cell_type": "code",
      "execution_count": null,
      "id": "cb0a985f",
      "metadata": {
        "_kg_hide-input": true,
        "execution": {
          "iopub.execute_input": "2023-03-15T16:39:26.390723Z",
          "iopub.status.busy": "2023-03-15T16:39:26.390285Z",
          "iopub.status.idle": "2023-03-15T16:39:28.128223Z",
          "shell.execute_reply": "2023-03-15T16:39:28.126743Z"
        },
        "papermill": {
          "duration": 1.764268,
          "end_time": "2023-03-15T16:39:28.131213",
          "exception": false,
          "start_time": "2023-03-15T16:39:26.366945",
          "status": "completed"
        },
        "tags": [],
        "id": "cb0a985f",
        "outputId": "39618c86-47d6-4442-cc1c-368896d4ccb4"
      },
      "outputs": [
        {
          "name": "stdout",
          "output_type": "stream",
          "text": [
            "No\n"
          ]
        }
      ],
      "source": [
        "#check if any duplicate row in test dataset\n",
        "if (any(test_df.duplicated())):\n",
        "    print(\"Yes\")\n",
        "else:\n",
        "    print(\"No\")"
      ]
    },
    {
      "cell_type": "markdown",
      "id": "a1970fb3",
      "metadata": {
        "papermill": {
          "duration": 0.022901,
          "end_time": "2023-03-15T16:39:28.177377",
          "exception": false,
          "start_time": "2023-03-15T16:39:28.154476",
          "status": "completed"
        },
        "tags": [],
        "id": "a1970fb3"
      },
      "source": [
        "---\n",
        "**Q: Are there any missing value in train dataset sample?**\n",
        "\n",
        "---"
      ]
    },
    {
      "cell_type": "code",
      "execution_count": null,
      "id": "caaada87",
      "metadata": {
        "_kg_hide-input": true,
        "execution": {
          "iopub.execute_input": "2023-03-15T16:39:28.224036Z",
          "iopub.status.busy": "2023-03-15T16:39:28.223602Z",
          "iopub.status.idle": "2023-03-15T16:39:28.282011Z",
          "shell.execute_reply": "2023-03-15T16:39:28.280613Z"
        },
        "papermill": {
          "duration": 0.085384,
          "end_time": "2023-03-15T16:39:28.284893",
          "exception": false,
          "start_time": "2023-03-15T16:39:28.199509",
          "status": "completed"
        },
        "tags": [],
        "id": "caaada87",
        "outputId": "91b793f6-be4c-4d78-a8a0-7434ee704804"
      },
      "outputs": [
        {
          "name": "stdout",
          "output_type": "stream",
          "text": [
            "Yes\n"
          ]
        }
      ],
      "source": [
        "# Check for missing value\n",
        "if(any(train_df.isna().sum())):\n",
        "    print(\"Yes\")\n",
        "else:\n",
        "    print(\"No\")"
      ]
    },
    {
      "cell_type": "markdown",
      "id": "ea9e6c5e",
      "metadata": {
        "papermill": {
          "duration": 0.022563,
          "end_time": "2023-03-15T16:39:28.330735",
          "exception": false,
          "start_time": "2023-03-15T16:39:28.308172",
          "status": "completed"
        },
        "tags": [],
        "id": "ea9e6c5e"
      },
      "source": [
        "---\n",
        "**Q: Are there any missing value in train dataset sample?**\n",
        "\n",
        "---"
      ]
    },
    {
      "cell_type": "code",
      "execution_count": null,
      "id": "0d7c7c15",
      "metadata": {
        "_kg_hide-input": true,
        "execution": {
          "iopub.execute_input": "2023-03-15T16:39:28.378397Z",
          "iopub.status.busy": "2023-03-15T16:39:28.377965Z",
          "iopub.status.idle": "2023-03-15T16:39:28.431607Z",
          "shell.execute_reply": "2023-03-15T16:39:28.430054Z"
        },
        "papermill": {
          "duration": 0.08207,
          "end_time": "2023-03-15T16:39:28.435832",
          "exception": false,
          "start_time": "2023-03-15T16:39:28.353762",
          "status": "completed"
        },
        "tags": [],
        "id": "0d7c7c15",
        "outputId": "f31c43c2-a23b-4bb7-e408-43d0563cf781"
      },
      "outputs": [
        {
          "name": "stdout",
          "output_type": "stream",
          "text": [
            "Yes\n"
          ]
        }
      ],
      "source": [
        "# Check for missing value in test dataset\n",
        "if(any(test_df.isna().sum())):\n",
        "    print(\"Yes\")\n",
        "else:\n",
        "    print(\"No\")"
      ]
    },
    {
      "cell_type": "markdown",
      "id": "a509f883",
      "metadata": {
        "papermill": {
          "duration": 0.022784,
          "end_time": "2023-03-15T16:39:28.482149",
          "exception": false,
          "start_time": "2023-03-15T16:39:28.459365",
          "status": "completed"
        },
        "tags": [],
        "id": "a509f883"
      },
      "source": [
        "---\n",
        "# Data Preprocessing\n",
        "\n",
        "---"
      ]
    },
    {
      "cell_type": "markdown",
      "id": "b7bf537e",
      "metadata": {
        "papermill": {
          "duration": 0.021935,
          "end_time": "2023-03-15T16:39:28.526632",
          "exception": false,
          "start_time": "2023-03-15T16:39:28.504697",
          "status": "completed"
        },
        "tags": [],
        "id": "b7bf537e"
      },
      "source": [
        "---\n",
        "**Handle Variable with Missing Value**\n",
        "\n",
        "---"
      ]
    },
    {
      "cell_type": "markdown",
      "id": "5b8bc7b3",
      "metadata": {
        "papermill": {
          "duration": 0.022283,
          "end_time": "2023-03-15T16:39:28.571218",
          "exception": false,
          "start_time": "2023-03-15T16:39:28.548935",
          "status": "completed"
        },
        "tags": [],
        "id": "5b8bc7b3"
      },
      "source": [
        "---\n",
        "Drop Variables with Missing Value (>=75%) in train dataset\n",
        "\n",
        "---"
      ]
    },
    {
      "cell_type": "code",
      "execution_count": null,
      "id": "5e4d88fd",
      "metadata": {
        "_kg_hide-input": true,
        "execution": {
          "iopub.execute_input": "2023-03-15T16:39:28.618379Z",
          "iopub.status.busy": "2023-03-15T16:39:28.617596Z",
          "iopub.status.idle": "2023-03-15T16:39:30.087030Z",
          "shell.execute_reply": "2023-03-15T16:39:30.085780Z"
        },
        "papermill": {
          "duration": 1.496193,
          "end_time": "2023-03-15T16:39:30.089818",
          "exception": false,
          "start_time": "2023-03-15T16:39:28.593625",
          "status": "completed"
        },
        "tags": [],
        "id": "5e4d88fd",
        "outputId": "341d0159-c121-4628-bf86-2ac38011b278"
      },
      "outputs": [
        {
          "name": "stdout",
          "output_type": "stream",
          "text": [
            "Dropping column D_42\n",
            "Dropping column D_49\n",
            "Dropping column D_66\n",
            "Dropping column D_73\n",
            "Dropping column D_76\n",
            "Dropping column R_9\n",
            "Dropping column B_29\n",
            "Dropping column D_87\n",
            "Dropping column D_88\n",
            "Dropping column D_106\n",
            "Dropping column R_26\n",
            "Dropping column D_108\n",
            "Dropping column D_110\n",
            "Dropping column D_111\n",
            "Dropping column B_39\n",
            "Dropping column B_42\n",
            "Dropping column D_132\n",
            "Dropping column D_134\n",
            "Dropping column D_135\n",
            "Dropping column D_136\n",
            "Dropping column D_137\n",
            "Dropping column D_138\n",
            "Dropping column D_142\n",
            "Total number of columns dropped in train dataframe 23\n"
          ]
        }
      ],
      "source": [
        "#drop variables with missing values >=75% in the train dataframe\n",
        "i=0\n",
        "for col in train_df.columns:\n",
        "    if (train_df[col].isnull().sum()/len(train_df[col])*100) >=75:\n",
        "        print(\"Dropping column\", col)\n",
        "        train_df.drop(labels=col,axis=1,inplace=True)\n",
        "        i=i+1\n",
        "        \n",
        "print(\"Total number of columns dropped in train dataframe\", i)"
      ]
    },
    {
      "cell_type": "markdown",
      "id": "b775c6eb",
      "metadata": {
        "papermill": {
          "duration": 0.023048,
          "end_time": "2023-03-15T16:39:30.136358",
          "exception": false,
          "start_time": "2023-03-15T16:39:30.113310",
          "status": "completed"
        },
        "tags": [],
        "id": "b775c6eb"
      },
      "source": [
        "---\n",
        "Drop Variables with Missing Value (>=75%) in test dataset\n",
        "\n",
        "---"
      ]
    },
    {
      "cell_type": "code",
      "execution_count": null,
      "id": "712ca076",
      "metadata": {
        "_kg_hide-input": true,
        "execution": {
          "iopub.execute_input": "2023-03-15T16:39:30.186052Z",
          "iopub.status.busy": "2023-03-15T16:39:30.185213Z",
          "iopub.status.idle": "2023-03-15T16:39:31.677248Z",
          "shell.execute_reply": "2023-03-15T16:39:31.676174Z"
        },
        "papermill": {
          "duration": 1.519623,
          "end_time": "2023-03-15T16:39:31.679972",
          "exception": false,
          "start_time": "2023-03-15T16:39:30.160349",
          "status": "completed"
        },
        "tags": [],
        "id": "712ca076",
        "outputId": "0181fc06-6af4-4601-c348-11be55e4fe73"
      },
      "outputs": [
        {
          "name": "stdout",
          "output_type": "stream",
          "text": [
            "Dropping column D_42\n",
            "Dropping column D_49\n",
            "Dropping column D_66\n",
            "Dropping column D_73\n",
            "Dropping column D_76\n",
            "Dropping column R_9\n",
            "Dropping column B_29\n",
            "Dropping column D_87\n",
            "Dropping column D_88\n",
            "Dropping column D_106\n",
            "Dropping column R_26\n",
            "Dropping column D_108\n",
            "Dropping column D_110\n",
            "Dropping column D_111\n",
            "Dropping column B_39\n",
            "Dropping column B_42\n",
            "Dropping column D_132\n",
            "Dropping column D_134\n",
            "Dropping column D_135\n",
            "Dropping column D_136\n",
            "Dropping column D_137\n",
            "Dropping column D_138\n",
            "Dropping column D_142\n",
            "Total number of columns dropped in test dataframe 23\n"
          ]
        }
      ],
      "source": [
        "#drop variables with missing values >=75% in the test dataframe\n",
        "i=0\n",
        "for col in test_df.columns:\n",
        "    if (test_df[col].isnull().sum()/len(test_df[col])*100) >=75:\n",
        "        print(\"Dropping column\", col)\n",
        "        test_df.drop(labels=col,axis=1,inplace=True)\n",
        "        i=i+1\n",
        "        \n",
        "print(\"Total number of columns dropped in test dataframe\", i)"
      ]
    },
    {
      "cell_type": "markdown",
      "id": "ee6c4f59",
      "metadata": {
        "papermill": {
          "duration": 0.024719,
          "end_time": "2023-03-15T16:39:31.728984",
          "exception": false,
          "start_time": "2023-03-15T16:39:31.704265",
          "status": "completed"
        },
        "tags": [],
        "id": "ee6c4f59"
      },
      "source": [
        "Converting categorical variable dtype from float64 to object in train and test dataset"
      ]
    },
    {
      "cell_type": "code",
      "execution_count": null,
      "id": "a69ff900",
      "metadata": {
        "_kg_hide-input": true,
        "execution": {
          "iopub.execute_input": "2023-03-15T16:39:31.779692Z",
          "iopub.status.busy": "2023-03-15T16:39:31.779231Z",
          "iopub.status.idle": "2023-03-15T16:39:32.730405Z",
          "shell.execute_reply": "2023-03-15T16:39:32.729062Z"
        },
        "papermill": {
          "duration": 0.980041,
          "end_time": "2023-03-15T16:39:32.733512",
          "exception": false,
          "start_time": "2023-03-15T16:39:31.753471",
          "status": "completed"
        },
        "tags": [],
        "id": "a69ff900"
      },
      "outputs": [],
      "source": [
        "#convert dtype for B categorical variable to object\n",
        "train_df = train_df.astype({\"B_30\": 'str', \"B_38\": 'str'})\n",
        "#convert dtype for B categorical variable to object\n",
        "test_df = test_df.astype({\"B_30\": 'str', \"B_38\": 'str'})\n",
        "#convert dtype for D categorical variable to object\n",
        "train_df = train_df.astype({\"D_114\": 'str', \"D_116\": 'str', \"D_117\": 'str', \"D_120\": 'str', \"D_126\": 'str', \"D_68\": 'str'})\n",
        "#convert dtype for D categorical variable to object\n",
        "test_df = test_df.astype({\"D_114\": 'str', \"D_116\": 'str', \"D_117\": 'str', \"D_120\": 'str', \"D_126\": 'str', \"D_68\": 'str'})"
      ]
    },
    {
      "cell_type": "markdown",
      "id": "aa413a43",
      "metadata": {
        "papermill": {
          "duration": 0.024512,
          "end_time": "2023-03-15T16:39:32.783004",
          "exception": false,
          "start_time": "2023-03-15T16:39:32.758492",
          "status": "completed"
        },
        "tags": [],
        "id": "aa413a43"
      },
      "source": [
        "Separate independent and dependent variable for train dataframe"
      ]
    },
    {
      "cell_type": "code",
      "execution_count": null,
      "id": "af98e720",
      "metadata": {
        "_kg_hide-input": true,
        "execution": {
          "iopub.execute_input": "2023-03-15T16:39:32.834385Z",
          "iopub.status.busy": "2023-03-15T16:39:32.833554Z",
          "iopub.status.idle": "2023-03-15T16:39:33.037146Z",
          "shell.execute_reply": "2023-03-15T16:39:33.035936Z"
        },
        "papermill": {
          "duration": 0.232604,
          "end_time": "2023-03-15T16:39:33.040163",
          "exception": false,
          "start_time": "2023-03-15T16:39:32.807559",
          "status": "completed"
        },
        "tags": [],
        "id": "af98e720"
      },
      "outputs": [],
      "source": [
        "# separate X and y for further processing\n",
        "X = train_df.drop(columns='target')\n",
        "y = train_df['target']"
      ]
    },
    {
      "cell_type": "code",
      "execution_count": null,
      "id": "765c7cd8",
      "metadata": {
        "_kg_hide-input": true,
        "execution": {
          "iopub.execute_input": "2023-03-15T16:39:33.091335Z",
          "iopub.status.busy": "2023-03-15T16:39:33.090524Z",
          "iopub.status.idle": "2023-03-15T16:39:33.097479Z",
          "shell.execute_reply": "2023-03-15T16:39:33.096050Z"
        },
        "papermill": {
          "duration": 0.035703,
          "end_time": "2023-03-15T16:39:33.100362",
          "exception": false,
          "start_time": "2023-03-15T16:39:33.064659",
          "status": "completed"
        },
        "tags": [],
        "id": "765c7cd8",
        "outputId": "e4dcd699-e2c7-45d2-a97f-81dab1fd35bc"
      },
      "outputs": [
        {
          "name": "stdout",
          "output_type": "stream",
          "text": [
            "Shape of X (100000, 165)\n"
          ]
        }
      ],
      "source": [
        "print(\"Shape of X\", X.shape)"
      ]
    },
    {
      "cell_type": "code",
      "execution_count": null,
      "id": "0fd16c06",
      "metadata": {
        "_kg_hide-input": true,
        "execution": {
          "iopub.execute_input": "2023-03-15T16:39:33.151017Z",
          "iopub.status.busy": "2023-03-15T16:39:33.150591Z",
          "iopub.status.idle": "2023-03-15T16:39:33.156418Z",
          "shell.execute_reply": "2023-03-15T16:39:33.155140Z"
        },
        "papermill": {
          "duration": 0.036229,
          "end_time": "2023-03-15T16:39:33.161040",
          "exception": false,
          "start_time": "2023-03-15T16:39:33.124811",
          "status": "completed"
        },
        "tags": [],
        "id": "0fd16c06",
        "outputId": "f356ecfe-a4a7-453b-a4ee-26dbebf5ef21"
      },
      "outputs": [
        {
          "name": "stdout",
          "output_type": "stream",
          "text": [
            "Shape of y (100000,)\n"
          ]
        }
      ],
      "source": [
        "print(\"Shape of y\", y.shape)"
      ]
    },
    {
      "cell_type": "markdown",
      "id": "45c0ba34",
      "metadata": {
        "papermill": {
          "duration": 0.025145,
          "end_time": "2023-03-15T16:39:33.212209",
          "exception": false,
          "start_time": "2023-03-15T16:39:33.187064",
          "status": "completed"
        },
        "tags": [],
        "id": "45c0ba34"
      },
      "source": [
        "Separate Categorical and Numerical variables (columns) for train dataframe"
      ]
    },
    {
      "cell_type": "code",
      "execution_count": null,
      "id": "751ffb21",
      "metadata": {
        "_kg_hide-input": true,
        "execution": {
          "iopub.execute_input": "2023-03-15T16:39:33.262960Z",
          "iopub.status.busy": "2023-03-15T16:39:33.262160Z",
          "iopub.status.idle": "2023-03-15T16:39:33.346302Z",
          "shell.execute_reply": "2023-03-15T16:39:33.344509Z"
        },
        "papermill": {
          "duration": 0.112374,
          "end_time": "2023-03-15T16:39:33.348923",
          "exception": false,
          "start_time": "2023-03-15T16:39:33.236549",
          "status": "completed"
        },
        "tags": [],
        "id": "751ffb21",
        "outputId": "3b0ba44f-f8c8-4b44-e834-33d25695f834"
      },
      "outputs": [
        {
          "name": "stdout",
          "output_type": "stream",
          "text": [
            "Categorical variables (columns) are: ['D_63', 'D_64', 'D_68', 'B_30', 'B_38', 'D_114', 'D_116', 'D_117', 'D_120', 'D_126']\n",
            "Numerical variables (columns) are: ['P_2', 'D_39', 'B_1', 'B_2', 'R_1', 'S_3', 'D_41', 'B_3', 'D_43', 'D_44', 'B_4', 'D_45', 'B_5', 'R_2', 'D_46', 'D_47', 'D_48', 'B_6', 'B_7', 'B_8', 'D_50', 'D_51', 'B_9', 'R_3', 'D_52', 'P_3', 'B_10', 'D_53', 'S_5', 'B_11', 'S_6', 'D_54', 'R_4', 'S_7', 'B_12', 'S_8', 'D_55', 'D_56', 'B_13', 'R_5', 'D_58', 'S_9', 'B_14', 'D_59', 'D_60', 'D_61', 'B_15', 'S_11', 'D_62', 'D_65', 'B_16', 'B_17', 'B_18', 'B_19', 'B_20', 'S_12', 'R_6', 'S_13', 'B_21', 'D_69', 'B_22', 'D_70', 'D_71', 'D_72', 'S_15', 'B_23', 'P_4', 'D_74', 'D_75', 'B_24', 'R_7', 'D_77', 'B_25', 'B_26', 'D_78', 'D_79', 'R_8', 'S_16', 'D_80', 'R_10', 'R_11', 'B_27', 'D_81', 'D_82', 'S_17', 'R_12', 'B_28', 'R_13', 'D_83', 'R_14', 'R_15', 'D_84', 'R_16', 'S_18', 'D_86', 'R_17', 'R_18', 'B_31', 'S_19', 'R_19', 'B_32', 'S_20', 'R_20', 'R_21', 'B_33', 'D_89', 'R_22', 'R_23', 'D_91', 'D_92', 'D_93', 'D_94', 'R_24', 'R_25', 'D_96', 'S_22', 'S_23', 'S_24', 'S_25', 'S_26', 'D_102', 'D_103', 'D_104', 'D_105', 'D_107', 'B_36', 'B_37', 'R_27', 'D_109', 'D_112', 'B_40', 'S_27', 'D_113', 'D_115', 'D_118', 'D_119', 'D_121', 'D_122', 'D_123', 'D_124', 'D_125', 'D_127', 'D_128', 'D_129', 'B_41', 'D_130', 'D_131', 'D_133', 'R_28', 'D_139', 'D_140', 'D_141', 'D_143', 'D_144', 'D_145']\n"
          ]
        }
      ],
      "source": [
        "# define categorical variables (columns)\n",
        "categorical = list(X.select_dtypes('object').columns)\n",
        "print(f\"Categorical variables (columns) are: {categorical}\")\n",
        "\n",
        "# define numerical variables (columns)\n",
        "numerical = list(X.select_dtypes('number').columns)\n",
        "print(f\"Numerical variables (columns) are: {numerical}\")"
      ]
    },
    {
      "cell_type": "markdown",
      "id": "90d078a7",
      "metadata": {
        "papermill": {
          "duration": 0.024025,
          "end_time": "2023-03-15T16:39:33.397866",
          "exception": false,
          "start_time": "2023-03-15T16:39:33.373841",
          "status": "completed"
        },
        "tags": [],
        "id": "90d078a7"
      },
      "source": [
        "---\n",
        "**Handle Categorical Variable (Column)**\n",
        "\n",
        "---"
      ]
    },
    {
      "cell_type": "code",
      "execution_count": null,
      "id": "e94f2a93",
      "metadata": {
        "_kg_hide-input": true,
        "execution": {
          "iopub.execute_input": "2023-03-15T16:39:33.451145Z",
          "iopub.status.busy": "2023-03-15T16:39:33.450651Z",
          "iopub.status.idle": "2023-03-15T16:39:33.462016Z",
          "shell.execute_reply": "2023-03-15T16:39:33.460401Z"
        },
        "papermill": {
          "duration": 0.040708,
          "end_time": "2023-03-15T16:39:33.464728",
          "exception": false,
          "start_time": "2023-03-15T16:39:33.424020",
          "status": "completed"
        },
        "tags": [],
        "id": "e94f2a93",
        "outputId": "d7024b14-8a62-439a-8c4e-3df8e1cd9c87"
      },
      "outputs": [
        {
          "name": "stdout",
          "output_type": "stream",
          "text": [
            "Pipeline(steps=[('imputer', SimpleImputer(strategy='most_frequent')),\n",
            "                ('encoder',\n",
            "                 OneHotEncoder(handle_unknown='ignore', sparse=False)),\n",
            "                ('scaler', StandardScaler())])\n"
          ]
        }
      ],
      "source": [
        "# define categorical pipeline\n",
        "cat_pipe = Pipeline([\n",
        "    ('imputer', SimpleImputer(strategy='most_frequent', missing_values=np.nan)),\n",
        "    ('encoder', OneHotEncoder(handle_unknown='ignore', sparse=False)),\n",
        "    ('scaler', StandardScaler())\n",
        "])\n",
        "\n",
        "print(cat_pipe)"
      ]
    },
    {
      "cell_type": "markdown",
      "id": "8cf591e3",
      "metadata": {
        "papermill": {
          "duration": 0.024236,
          "end_time": "2023-03-15T16:39:33.513753",
          "exception": false,
          "start_time": "2023-03-15T16:39:33.489517",
          "status": "completed"
        },
        "tags": [],
        "id": "8cf591e3"
      },
      "source": [
        "---\n",
        "**Handle Numerical Variable (Column)**\n",
        "\n",
        "---"
      ]
    },
    {
      "cell_type": "code",
      "execution_count": null,
      "id": "f7c3d8f5",
      "metadata": {
        "_kg_hide-input": true,
        "execution": {
          "iopub.execute_input": "2023-03-15T16:39:33.565660Z",
          "iopub.status.busy": "2023-03-15T16:39:33.564407Z",
          "iopub.status.idle": "2023-03-15T16:39:33.573118Z",
          "shell.execute_reply": "2023-03-15T16:39:33.571969Z"
        },
        "papermill": {
          "duration": 0.038016,
          "end_time": "2023-03-15T16:39:33.576426",
          "exception": false,
          "start_time": "2023-03-15T16:39:33.538410",
          "status": "completed"
        },
        "tags": [],
        "id": "f7c3d8f5",
        "outputId": "3669b034-d8e2-428e-c535-bde12347c90b"
      },
      "outputs": [
        {
          "name": "stdout",
          "output_type": "stream",
          "text": [
            "Pipeline(steps=[('imputer', SimpleImputer(strategy='most_frequent')),\n",
            "                ('scaler', StandardScaler())])\n"
          ]
        }
      ],
      "source": [
        "# define numerical pipeline\n",
        "num_pipe = Pipeline([\n",
        "    ('imputer', SimpleImputer(strategy='most_frequent', missing_values=np.nan)),\n",
        "    ('scaler', StandardScaler())\n",
        "])\n",
        "print(num_pipe)"
      ]
    },
    {
      "cell_type": "markdown",
      "id": "646b559a",
      "metadata": {
        "papermill": {
          "duration": 0.024216,
          "end_time": "2023-03-15T16:39:33.626366",
          "exception": false,
          "start_time": "2023-03-15T16:39:33.602150",
          "status": "completed"
        },
        "tags": [],
        "id": "646b559a"
      },
      "source": [
        "Combine Categorical and Numerical Pipeline Steps"
      ]
    },
    {
      "cell_type": "code",
      "execution_count": null,
      "id": "52e1236e",
      "metadata": {
        "_kg_hide-input": true,
        "execution": {
          "iopub.execute_input": "2023-03-15T16:39:33.677116Z",
          "iopub.status.busy": "2023-03-15T16:39:33.676674Z",
          "iopub.status.idle": "2023-03-15T16:39:33.697502Z",
          "shell.execute_reply": "2023-03-15T16:39:33.696267Z"
        },
        "papermill": {
          "duration": 0.049739,
          "end_time": "2023-03-15T16:39:33.700610",
          "exception": false,
          "start_time": "2023-03-15T16:39:33.650871",
          "status": "completed"
        },
        "tags": [],
        "id": "52e1236e",
        "outputId": "f6f34f22-c0ec-46b0-c119-a7ad6b79163e"
      },
      "outputs": [
        {
          "name": "stdout",
          "output_type": "stream",
          "text": [
            "ColumnTransformer(transformers=[('cat',\n",
            "                                 Pipeline(steps=[('imputer',\n",
            "                                                  SimpleImputer(strategy='most_frequent')),\n",
            "                                                 ('encoder',\n",
            "                                                  OneHotEncoder(handle_unknown='ignore',\n",
            "                                                                sparse=False)),\n",
            "                                                 ('scaler', StandardScaler())]),\n",
            "                                 ['D_63', 'D_64', 'D_68', 'B_30', 'B_38',\n",
            "                                  'D_114', 'D_116', 'D_117', 'D_120',\n",
            "                                  'D_126']),\n",
            "                                ('num',\n",
            "                                 Pipeline(steps=[('imputer',\n",
            "                                                  SimpleImputer(strategy='most_frequent')),\n",
            "                                                 ('scaler', StandardScaler())]),\n",
            "                                 ['P_2', 'D_39', 'B_1', 'B_2', 'R_1', 'S_3',\n",
            "                                  'D_41', 'B_3', 'D_43', 'D_44', 'B_4', 'D_45',\n",
            "                                  'B_5', 'R_2', 'D_46', 'D_47', 'D_48', 'B_6',\n",
            "                                  'B_7', 'B_8', 'D_50', 'D_51', 'B_9', 'R_3',\n",
            "                                  'D_52', 'P_3', 'B_10', 'D_53', 'S_5', 'B_11', ...])])\n"
          ]
        }
      ],
      "source": [
        "# combine categorical and numerical pipeline\n",
        "preprocess = ColumnTransformer([\n",
        "    ('cat', cat_pipe, categorical),\n",
        "    ('num', num_pipe, numerical)\n",
        "])\n",
        "\n",
        "print(preprocess)"
      ]
    },
    {
      "cell_type": "markdown",
      "id": "4543013a",
      "metadata": {
        "papermill": {
          "duration": 0.024641,
          "end_time": "2023-03-15T16:39:33.750937",
          "exception": false,
          "start_time": "2023-03-15T16:39:33.726296",
          "status": "completed"
        },
        "tags": [],
        "id": "4543013a"
      },
      "source": [
        "Separate training and validation set for train dataframe"
      ]
    },
    {
      "cell_type": "code",
      "execution_count": null,
      "id": "ee91f85f",
      "metadata": {
        "_kg_hide-input": true,
        "execution": {
          "iopub.execute_input": "2023-03-15T16:39:33.804053Z",
          "iopub.status.busy": "2023-03-15T16:39:33.803181Z",
          "iopub.status.idle": "2023-03-15T16:39:34.052935Z",
          "shell.execute_reply": "2023-03-15T16:39:34.051890Z"
        },
        "papermill": {
          "duration": 0.280239,
          "end_time": "2023-03-15T16:39:34.055982",
          "exception": false,
          "start_time": "2023-03-15T16:39:33.775743",
          "status": "completed"
        },
        "tags": [],
        "id": "ee91f85f"
      },
      "outputs": [],
      "source": [
        "# splitting training data into training and testing (validation) set\n",
        "X_train, X_test, y_train, y_test = train_test_split(X, y, test_size=0.25, stratify=y, random_state=42)"
      ]
    },
    {
      "cell_type": "code",
      "execution_count": null,
      "id": "4e76932f",
      "metadata": {
        "_kg_hide-input": true,
        "execution": {
          "iopub.execute_input": "2023-03-15T16:39:34.108022Z",
          "iopub.status.busy": "2023-03-15T16:39:34.107560Z",
          "iopub.status.idle": "2023-03-15T16:39:34.113733Z",
          "shell.execute_reply": "2023-03-15T16:39:34.112331Z"
        },
        "papermill": {
          "duration": 0.036351,
          "end_time": "2023-03-15T16:39:34.117102",
          "exception": false,
          "start_time": "2023-03-15T16:39:34.080751",
          "status": "completed"
        },
        "tags": [],
        "id": "4e76932f",
        "outputId": "3fb0ca5b-f078-4924-8faa-142fc7bde4ab"
      },
      "outputs": [
        {
          "name": "stdout",
          "output_type": "stream",
          "text": [
            "Shape of X_train (75000, 165)\n"
          ]
        }
      ],
      "source": [
        "print(\"Shape of X_train\", X_train.shape)"
      ]
    },
    {
      "cell_type": "code",
      "execution_count": null,
      "id": "3ccf68aa",
      "metadata": {
        "_kg_hide-input": true,
        "execution": {
          "iopub.execute_input": "2023-03-15T16:39:34.171917Z",
          "iopub.status.busy": "2023-03-15T16:39:34.171235Z",
          "iopub.status.idle": "2023-03-15T16:39:34.177417Z",
          "shell.execute_reply": "2023-03-15T16:39:34.175969Z"
        },
        "papermill": {
          "duration": 0.037323,
          "end_time": "2023-03-15T16:39:34.181219",
          "exception": false,
          "start_time": "2023-03-15T16:39:34.143896",
          "status": "completed"
        },
        "tags": [],
        "id": "3ccf68aa",
        "outputId": "57417a95-8293-490d-b33b-f229dceac936"
      },
      "outputs": [
        {
          "name": "stdout",
          "output_type": "stream",
          "text": [
            "Shape of X_test (25000, 165)\n"
          ]
        }
      ],
      "source": [
        "print(\"Shape of X_test\", X_test.shape)"
      ]
    },
    {
      "cell_type": "code",
      "execution_count": null,
      "id": "5b19cbd9",
      "metadata": {
        "_kg_hide-input": true,
        "execution": {
          "iopub.execute_input": "2023-03-15T16:39:34.234273Z",
          "iopub.status.busy": "2023-03-15T16:39:34.233236Z",
          "iopub.status.idle": "2023-03-15T16:39:34.238863Z",
          "shell.execute_reply": "2023-03-15T16:39:34.238034Z"
        },
        "papermill": {
          "duration": 0.036337,
          "end_time": "2023-03-15T16:39:34.243022",
          "exception": false,
          "start_time": "2023-03-15T16:39:34.206685",
          "status": "completed"
        },
        "tags": [],
        "id": "5b19cbd9",
        "outputId": "61ef1770-269d-42f0-f537-c212a960cf5d"
      },
      "outputs": [
        {
          "name": "stdout",
          "output_type": "stream",
          "text": [
            "Shape of y_train (75000,)\n"
          ]
        }
      ],
      "source": [
        "print(\"Shape of y_train\", y_train.shape)"
      ]
    },
    {
      "cell_type": "code",
      "execution_count": null,
      "id": "e4b2d424",
      "metadata": {
        "_kg_hide-input": true,
        "execution": {
          "iopub.execute_input": "2023-03-15T16:39:34.296503Z",
          "iopub.status.busy": "2023-03-15T16:39:34.296056Z",
          "iopub.status.idle": "2023-03-15T16:39:34.302851Z",
          "shell.execute_reply": "2023-03-15T16:39:34.301592Z"
        },
        "papermill": {
          "duration": 0.035984,
          "end_time": "2023-03-15T16:39:34.305348",
          "exception": false,
          "start_time": "2023-03-15T16:39:34.269364",
          "status": "completed"
        },
        "tags": [],
        "id": "e4b2d424",
        "outputId": "26208bc1-d357-4f72-d891-f7e30c5f4950"
      },
      "outputs": [
        {
          "name": "stdout",
          "output_type": "stream",
          "text": [
            "Shape of y_test (25000,)\n"
          ]
        }
      ],
      "source": [
        "print(\"Shape of y_test\", y_test.shape)"
      ]
    },
    {
      "cell_type": "markdown",
      "id": "a09fa1d2",
      "metadata": {
        "papermill": {
          "duration": 0.02462,
          "end_time": "2023-03-15T16:39:34.355330",
          "exception": false,
          "start_time": "2023-03-15T16:39:34.330710",
          "status": "completed"
        },
        "tags": [],
        "id": "a09fa1d2"
      },
      "source": [
        "---\n",
        "# Model Building/Evaluation\n",
        "\n",
        "---"
      ]
    },
    {
      "cell_type": "markdown",
      "id": "8965f1bc",
      "metadata": {
        "papermill": {
          "duration": 0.024411,
          "end_time": "2023-03-15T16:39:34.405482",
          "exception": false,
          "start_time": "2023-03-15T16:39:34.381071",
          "status": "completed"
        },
        "tags": [],
        "id": "8965f1bc"
      },
      "source": [
        "Amex Evaluation Metric for reference"
      ]
    },
    {
      "cell_type": "code",
      "execution_count": null,
      "id": "97294fb1",
      "metadata": {
        "_kg_hide-input": true,
        "execution": {
          "iopub.execute_input": "2023-03-15T16:39:34.458046Z",
          "iopub.status.busy": "2023-03-15T16:39:34.457596Z",
          "iopub.status.idle": "2023-03-15T16:39:34.472347Z",
          "shell.execute_reply": "2023-03-15T16:39:34.471380Z"
        },
        "papermill": {
          "duration": 0.04386,
          "end_time": "2023-03-15T16:39:34.474555",
          "exception": false,
          "start_time": "2023-03-15T16:39:34.430695",
          "status": "completed"
        },
        "tags": [],
        "id": "97294fb1"
      },
      "outputs": [],
      "source": [
        "# please refer sample notebook provided under competition page for details\n",
        "def amex_metric(y_true: pd.DataFrame, y_pred: pd.DataFrame) -> float:\n",
        "\n",
        "    def top_four_percent_captured(y_true: pd.DataFrame, y_pred: pd.DataFrame) -> float:\n",
        "        df = (pd.concat([y_true, y_pred], axis='columns')\n",
        "              .sort_values('prediction', ascending=False))\n",
        "        df['weight'] = df['target'].apply(lambda x: 20 if x==0 else 1)\n",
        "        four_pct_cutoff = int(0.04 * df['weight'].sum())\n",
        "        df['weight_cumsum'] = df['weight'].cumsum()\n",
        "        df_cutoff = df.loc[df['weight_cumsum'] <= four_pct_cutoff]\n",
        "        return (df_cutoff['target'] == 1).sum() / (df['target'] == 1).sum()\n",
        "    \n",
        "    def weighted_gini(y_true: pd.DataFrame, y_pred: pd.DataFrame) -> float:\n",
        "        df = (pd.concat([y_true, y_pred], axis='columns')\n",
        "              .sort_values('prediction', ascending=False))\n",
        "        df['weight'] = df['target'].apply(lambda x: 20 if x==0 else 1)\n",
        "        df['random'] = (df['weight'] / df['weight'].sum()).cumsum()\n",
        "        total_pos = (df['target'] * df['weight']).sum()\n",
        "        df['cum_pos_found'] = (df['target'] * df['weight']).cumsum()\n",
        "        df['lorentz'] = df['cum_pos_found'] / total_pos\n",
        "        df['gini'] = (df['lorentz'] - df['random']) * df['weight']\n",
        "        return df['gini'].sum()\n",
        "    \n",
        "    def normalized_weighted_gini(y_true: pd.DataFrame, y_pred: pd.DataFrame) -> float:\n",
        "        y_true_pred = y_true.rename(columns={'target': 'prediction'})\n",
        "        return weighted_gini(y_true, y_pred) / weighted_gini(y_true, y_true_pred)\n",
        "\n",
        "    g = normalized_weighted_gini(y_true, y_pred)\n",
        "    d = top_four_percent_captured(y_true, y_pred)\n",
        "\n",
        "    return 0.5 * (g + d)"
      ]
    },
    {
      "cell_type": "code",
      "execution_count": null,
      "id": "907fc82a",
      "metadata": {
        "_kg_hide-input": true,
        "execution": {
          "iopub.execute_input": "2023-03-15T16:39:34.526989Z",
          "iopub.status.busy": "2023-03-15T16:39:34.526568Z",
          "iopub.status.idle": "2023-03-15T16:39:34.534326Z",
          "shell.execute_reply": "2023-03-15T16:39:34.533431Z"
        },
        "papermill": {
          "duration": 0.03675,
          "end_time": "2023-03-15T16:39:34.536712",
          "exception": false,
          "start_time": "2023-03-15T16:39:34.499962",
          "status": "completed"
        },
        "tags": [],
        "id": "907fc82a"
      },
      "outputs": [],
      "source": [
        "# function for display of model training and validation score\n",
        "def model_score(model_name):\n",
        "    print(\"#######################################################################\")\n",
        "    print(\"Training and Evaluation using\", model_name)\n",
        "    print(\"#######################################################################\")\n",
        "    print(\"preprocess - Categorical: Missing value Impute, OneHotEncoding and Scaling\")\n",
        "    print(\"preprocess - Numerical: Missing value Impute and Scaling\")\n",
        "    print(\"###########################################################################\")\n",
        "    model = pipe.fit(X_train, y_train)  \n",
        "    print(\"#######################################################################\")\n",
        "    print (model)\n",
        "    print(\"#######################################################################\")\n",
        "    print(\"model training score: %.3f\" % pipe.score(X_train, y_train))\n",
        "    print(\"model validation score: %.3f\" % pipe.score(X_test, y_test))\n",
        "    print(\"#######################################################################\")\n",
        "    print(\"Amex Evaluation Metric - Training: %.3f\"% amex_metric(pd.DataFrame(y_train), pd.DataFrame(pipe.predict(X_train), columns=['prediction'])))\n",
        "    print(\"Amex Evaluation Metric - Validation: %.3f\"% amex_metric(pd.DataFrame(y_test), pd.DataFrame(pipe.predict(X_test), columns=['prediction'])))\n",
        "    print(\"#######################################################################\")"
      ]
    },
    {
      "cell_type": "code",
      "execution_count": null,
      "id": "62861e45",
      "metadata": {
        "_kg_hide-input": true,
        "execution": {
          "iopub.execute_input": "2023-03-15T16:39:34.590104Z",
          "iopub.status.busy": "2023-03-15T16:39:34.589692Z",
          "iopub.status.idle": "2023-03-15T16:39:34.599075Z",
          "shell.execute_reply": "2023-03-15T16:39:34.597790Z"
        },
        "papermill": {
          "duration": 0.039727,
          "end_time": "2023-03-15T16:39:34.601620",
          "exception": false,
          "start_time": "2023-03-15T16:39:34.561893",
          "status": "completed"
        },
        "tags": [],
        "id": "62861e45"
      },
      "outputs": [],
      "source": [
        "# function for display of cross validation score\n",
        "def model_cross_validation_score(model_name):\n",
        "    print(\"#######################################################################\")\n",
        "    print(\"Training and Evaluation with Cross Validation using\",model_name)\n",
        "    print(\"#######################################################################\")\n",
        "    # using scoring with classification metrics\n",
        "    scoring = ['accuracy', 'precision', 'recall','f1','roc_auc']\n",
        "    #using RepeatedStratifiedKFold as cross validator\n",
        "    cv = RepeatedStratifiedKFold(n_splits=3, n_repeats=2, random_state=42)\n",
        "    # cross validation returning both train and test score\n",
        "    scores = cross_validate(pipe, X, y, scoring=scoring, cv=cv, n_jobs=-1, return_train_score=True,return_estimator=True)\n",
        "    print('Training Score: Accuracy: {:.2f}, Precision: {:.2f}, Recall: {:.2f},f1-score: {:.2f}, ROC AUC: {:.2f}'.format(np.mean(scores['train_accuracy']),np.mean(scores['train_precision']), np.mean(scores['train_recall']), np.mean(scores['train_f1']), np.mean(scores['train_roc_auc'])))\n",
        "    print('Validation Score: Accuracy: {:.2f}, Precision: {:.2f}, Recall: {:.2f},f1-score: {:.2f}, ROC AUC: {:.2f}'.format(np.mean(scores['test_accuracy']),np.mean(scores['test_precision']), np.mean(scores['test_recall']), np.mean(scores['test_f1']), np.mean(scores['test_roc_auc'])))\n",
        "    print(\"#######################################################################\")"
      ]
    },
    {
      "cell_type": "code",
      "execution_count": null,
      "id": "78621a0a",
      "metadata": {
        "_kg_hide-input": true,
        "execution": {
          "iopub.execute_input": "2023-03-15T16:39:34.655306Z",
          "iopub.status.busy": "2023-03-15T16:39:34.654896Z",
          "iopub.status.idle": "2023-03-15T16:39:34.662893Z",
          "shell.execute_reply": "2023-03-15T16:39:34.661683Z"
        },
        "papermill": {
          "duration": 0.038014,
          "end_time": "2023-03-15T16:39:34.665627",
          "exception": false,
          "start_time": "2023-03-15T16:39:34.627613",
          "status": "completed"
        },
        "tags": [],
        "id": "78621a0a"
      },
      "outputs": [],
      "source": [
        "# function for display of model score via RandomizedSearchCV\n",
        "def model_random_search_score(model_name):\n",
        "    print(\"#######################################################################\")\n",
        "    print(\"Training and Evaluation with RandomizedSearchCV using\",model_name)\n",
        "    print(\"#######################################################################\")\n",
        "    random_search.fit(X_train,y_train)\n",
        "    model = random_search.best_estimator_\n",
        "    score = random_search.best_score_\n",
        "    print (\"Best Estimator for\", model_name,\"is\", model,\"with best score as\",score)\n",
        "    print(\"#######################################################################\")\n",
        "    print(\"Amex Evaluation Metric - Training: %.3f\"% amex_metric(pd.DataFrame(y_train), pd.DataFrame(model.predict(X_train), columns=['prediction'])))\n",
        "    print(\"Amex Evaluation Metric - Validation: %.3f\"% amex_metric(pd.DataFrame(y_test), pd.DataFrame(model.predict(X_test), columns=['prediction'])))\n",
        "    print(\"#######################################################################\")"
      ]
    },
    {
      "cell_type": "markdown",
      "id": "14ef2be5",
      "metadata": {
        "papermill": {
          "duration": 0.025134,
          "end_time": "2023-03-15T16:39:34.716347",
          "exception": false,
          "start_time": "2023-03-15T16:39:34.691213",
          "status": "completed"
        },
        "tags": [],
        "id": "14ef2be5"
      },
      "source": [
        "---\n",
        "Using pipeline steps for Model Building, Training & Evaluation\n",
        "\n",
        "---"
      ]
    },
    {
      "cell_type": "code",
      "execution_count": null,
      "id": "cac1a5c9",
      "metadata": {
        "_kg_hide-input": true,
        "execution": {
          "iopub.execute_input": "2023-03-15T16:39:34.767979Z",
          "iopub.status.busy": "2023-03-15T16:39:34.767537Z",
          "iopub.status.idle": "2023-03-15T16:39:34.774526Z",
          "shell.execute_reply": "2023-03-15T16:39:34.773387Z"
        },
        "papermill": {
          "duration": 0.035853,
          "end_time": "2023-03-15T16:39:34.776889",
          "exception": false,
          "start_time": "2023-03-15T16:39:34.741036",
          "status": "completed"
        },
        "tags": [],
        "id": "cac1a5c9"
      },
      "outputs": [],
      "source": [
        "# pipeline steps required for model building,training and evaluation\n",
        "steps = [\n",
        "        ('preprocess', preprocess),\n",
        "        ('over_sampler',SMOTE(random_state = 42)),\n",
        "        ('under_sampler',RandomUnderSampler()),\n",
        "        ('feature_selection', SelectFromModel(RandomForestClassifier(n_estimators = 10, random_state = 42, n_jobs = -1))),\n",
        "        ('dimension_reduction', PCA(n_components='mle',random_state = 42)),\n",
        "        ('model_estimator', RandomForestClassifier(random_state = 42))\n",
        "    ]\n",
        "pipe = Pipeline(steps, verbose=True)"
      ]
    },
    {
      "cell_type": "markdown",
      "id": "a8841151",
      "metadata": {
        "papermill": {
          "duration": 0.024408,
          "end_time": "2023-03-15T16:39:34.826737",
          "exception": false,
          "start_time": "2023-03-15T16:39:34.802329",
          "status": "completed"
        },
        "tags": [],
        "id": "a8841151"
      },
      "source": [
        "* Using RandomForestClassifier"
      ]
    },
    {
      "cell_type": "code",
      "execution_count": null,
      "id": "9fda1856",
      "metadata": {
        "_kg_hide-input": true,
        "execution": {
          "iopub.execute_input": "2023-03-15T16:39:34.878291Z",
          "iopub.status.busy": "2023-03-15T16:39:34.877450Z",
          "iopub.status.idle": "2023-03-15T16:42:09.277843Z",
          "shell.execute_reply": "2023-03-15T16:42:09.276995Z"
        },
        "papermill": {
          "duration": 154.42909,
          "end_time": "2023-03-15T16:42:09.280382",
          "exception": false,
          "start_time": "2023-03-15T16:39:34.851292",
          "status": "completed"
        },
        "tags": [],
        "id": "9fda1856",
        "outputId": "4b61f01e-1900-4fff-e2a3-04713e84b4d7"
      },
      "outputs": [
        {
          "name": "stdout",
          "output_type": "stream",
          "text": [
            "#######################################################################\n",
            "Training and Evaluation using RandomForestClassifier\n",
            "#######################################################################\n",
            "preprocess - Categorical: Missing value Impute, OneHotEncoding and Scaling\n",
            "preprocess - Numerical: Missing value Impute and Scaling\n",
            "###########################################################################\n",
            "[Pipeline] ........ (step 1 of 6) Processing preprocess, total=   2.8s\n",
            "[Pipeline] ...... (step 2 of 6) Processing over_sampler, total=  10.5s\n",
            "[Pipeline] ..... (step 3 of 6) Processing under_sampler, total=   0.1s\n",
            "[Pipeline] . (step 4 of 6) Processing feature_selection, total=  10.0s\n",
            "[Pipeline]  (step 5 of 6) Processing dimension_reduction, total=   0.4s\n",
            "[Pipeline] ... (step 6 of 6) Processing model_estimator, total= 2.0min\n",
            "#######################################################################\n",
            "Pipeline(steps=[('preprocess',\n",
            "                 ColumnTransformer(transformers=[('cat',\n",
            "                                                  Pipeline(steps=[('imputer',\n",
            "                                                                   SimpleImputer(strategy='most_frequent')),\n",
            "                                                                  ('encoder',\n",
            "                                                                   OneHotEncoder(handle_unknown='ignore',\n",
            "                                                                                 sparse=False)),\n",
            "                                                                  ('scaler',\n",
            "                                                                   StandardScaler())]),\n",
            "                                                  ['D_63', 'D_64', 'D_68',\n",
            "                                                   'B_30', 'B_38', 'D_114',\n",
            "                                                   'D_116', 'D_117', 'D_120',\n",
            "                                                   'D_126']),\n",
            "                                                 ('num',\n",
            "                                                  Pipeline(steps=[('imputer',\n",
            "                                                                   SimpleI...\n",
            "                                                   'D_53', 'S_5', 'B_11', ...])])),\n",
            "                ('over_sampler', SMOTE(random_state=42)),\n",
            "                ('under_sampler', RandomUnderSampler()),\n",
            "                ('feature_selection',\n",
            "                 SelectFromModel(estimator=RandomForestClassifier(n_estimators=10,\n",
            "                                                                  n_jobs=-1,\n",
            "                                                                  random_state=42))),\n",
            "                ('dimension_reduction',\n",
            "                 PCA(n_components='mle', random_state=42)),\n",
            "                ('model_estimator', RandomForestClassifier(random_state=42))],\n",
            "         verbose=True)\n",
            "#######################################################################\n",
            "model training score: 1.000\n",
            "model validation score: 0.915\n",
            "#######################################################################\n",
            "Amex Evaluation Metric - Training: 0.016\n",
            "Amex Evaluation Metric - Validation: -0.002\n",
            "#######################################################################\n"
          ]
        }
      ],
      "source": [
        "# using custom function to display model training and validation score\n",
        "model_score(\"RandomForestClassifier\")"
      ]
    },
    {
      "cell_type": "markdown",
      "id": "d60e49b1",
      "metadata": {
        "papermill": {
          "duration": 0.025167,
          "end_time": "2023-03-15T16:42:09.331996",
          "exception": false,
          "start_time": "2023-03-15T16:42:09.306829",
          "status": "completed"
        },
        "tags": [],
        "id": "d60e49b1"
      },
      "source": [
        "\n"
      ]
    },
    {
      "cell_type": "markdown",
      "id": "4407e4b9",
      "metadata": {
        "papermill": {
          "duration": 0.026069,
          "end_time": "2023-03-15T16:42:09.384297",
          "exception": false,
          "start_time": "2023-03-15T16:42:09.358228",
          "status": "completed"
        },
        "tags": [],
        "id": "4407e4b9"
      },
      "source": [
        "* Using XGBClassifier"
      ]
    },
    {
      "cell_type": "code",
      "execution_count": null,
      "id": "7a231004",
      "metadata": {
        "_kg_hide-input": true,
        "execution": {
          "iopub.execute_input": "2023-03-15T16:42:09.438775Z",
          "iopub.status.busy": "2023-03-15T16:42:09.437975Z",
          "iopub.status.idle": "2023-03-15T16:43:33.242768Z",
          "shell.execute_reply": "2023-03-15T16:43:33.241491Z"
        },
        "papermill": {
          "duration": 83.835704,
          "end_time": "2023-03-15T16:43:33.245934",
          "exception": false,
          "start_time": "2023-03-15T16:42:09.410230",
          "status": "completed"
        },
        "tags": [],
        "id": "7a231004",
        "outputId": "82bd5a1e-7fe5-43f8-da40-803cb5ab5274"
      },
      "outputs": [
        {
          "name": "stdout",
          "output_type": "stream",
          "text": [
            "#######################################################################\n",
            "Training and Evaluation using XGBClassifier\n",
            "#######################################################################\n",
            "preprocess - Categorical: Missing value Impute, OneHotEncoding and Scaling\n",
            "preprocess - Numerical: Missing value Impute and Scaling\n",
            "###########################################################################\n",
            "[Pipeline] ........ (step 1 of 6) Processing preprocess, total=   2.5s\n",
            "[Pipeline] ...... (step 2 of 6) Processing over_sampler, total=   9.4s\n",
            "[Pipeline] ..... (step 3 of 6) Processing under_sampler, total=   0.1s\n",
            "[Pipeline] . (step 4 of 6) Processing feature_selection, total=  10.2s\n",
            "[Pipeline]  (step 5 of 6) Processing dimension_reduction, total=   0.4s\n",
            "[Pipeline] ... (step 6 of 6) Processing model_estimator, total=  56.8s\n",
            "#######################################################################\n",
            "Pipeline(steps=[('preprocess',\n",
            "                 ColumnTransformer(transformers=[('cat',\n",
            "                                                  Pipeline(steps=[('imputer',\n",
            "                                                                   SimpleImputer(strategy='most_frequent')),\n",
            "                                                                  ('encoder',\n",
            "                                                                   OneHotEncoder(handle_unknown='ignore',\n",
            "                                                                                 sparse=False)),\n",
            "                                                                  ('scaler',\n",
            "                                                                   StandardScaler())]),\n",
            "                                                  ['D_63', 'D_64', 'D_68',\n",
            "                                                   'B_30', 'B_38', 'D_114',\n",
            "                                                   'D_116', 'D_117', 'D_120',\n",
            "                                                   'D_126']),\n",
            "                                                 ('num',\n",
            "                                                  Pipeline(steps=[('imputer',\n",
            "                                                                   SimpleI...\n",
            "                               gamma=0, gpu_id=-1, grow_policy='depthwise',\n",
            "                               importance_type=None, interaction_constraints='',\n",
            "                               learning_rate=0.300000012, max_bin=256,\n",
            "                               max_cat_to_onehot=4, max_delta_step=0,\n",
            "                               max_depth=6, max_leaves=0, min_child_weight=1,\n",
            "                               missing=nan, monotone_constraints='()',\n",
            "                               n_estimators=100, n_jobs=0, num_parallel_tree=1,\n",
            "                               predictor='auto', random_state=0, reg_alpha=0,\n",
            "                               reg_lambda=1, ...))],\n",
            "         verbose=True)\n",
            "#######################################################################\n",
            "model training score: 0.936\n",
            "model validation score: 0.888\n",
            "#######################################################################\n",
            "Amex Evaluation Metric - Training: 0.022\n",
            "Amex Evaluation Metric - Validation: -0.002\n",
            "#######################################################################\n"
          ]
        }
      ],
      "source": [
        "# using XGBClassifier\n",
        "pipe.set_params(model_estimator=XGBClassifier())\n",
        "# using custom function to display model training and validation score\n",
        "model_score(\"XGBClassifier\")"
      ]
    },
    {
      "cell_type": "markdown",
      "id": "bc66bf9d",
      "metadata": {
        "papermill": {
          "duration": 0.026444,
          "end_time": "2023-03-15T16:43:33.304239",
          "exception": false,
          "start_time": "2023-03-15T16:43:33.277795",
          "status": "completed"
        },
        "tags": [],
        "id": "bc66bf9d"
      },
      "source": [
        "---\n",
        "Using XGBClassifier with Cross-Validation and scoring with accuracy, precision, recall, f1-score and ROC AUC\n",
        "\n",
        "---"
      ]
    },
    {
      "cell_type": "code",
      "execution_count": null,
      "id": "8778ef84",
      "metadata": {
        "_kg_hide-input": true,
        "execution": {
          "iopub.execute_input": "2023-03-15T16:43:33.361651Z",
          "iopub.status.busy": "2023-03-15T16:43:33.360665Z",
          "iopub.status.idle": "2023-03-15T16:49:51.207027Z",
          "shell.execute_reply": "2023-03-15T16:49:51.205493Z"
        },
        "papermill": {
          "duration": 377.906913,
          "end_time": "2023-03-15T16:49:51.237692",
          "exception": false,
          "start_time": "2023-03-15T16:43:33.330779",
          "status": "completed"
        },
        "tags": [],
        "id": "8778ef84",
        "outputId": "33b56301-1667-47de-d73b-d36b20633c37"
      },
      "outputs": [
        {
          "name": "stdout",
          "output_type": "stream",
          "text": [
            "#######################################################################\n",
            "Training and Evaluation with Cross Validation using XGBClassifier\n",
            "#######################################################################\n",
            "Training Score: Accuracy: 0.94, Precision: 0.82, Recall: 0.97,f1-score: 0.89, ROC AUC: 0.99\n",
            "Validation Score: Accuracy: 0.89, Precision: 0.73, Recall: 0.89,f1-score: 0.80, ROC AUC: 0.96\n",
            "#######################################################################\n"
          ]
        }
      ],
      "source": [
        "#using custom function to display cross validation score\n",
        "model_cross_validation_score(\"XGBClassifier\")"
      ]
    },
    {
      "cell_type": "markdown",
      "id": "eedf4750",
      "metadata": {
        "papermill": {
          "duration": 0.026224,
          "end_time": "2023-03-15T16:49:51.289658",
          "exception": false,
          "start_time": "2023-03-15T16:49:51.263434",
          "status": "completed"
        },
        "tags": [],
        "id": "eedf4750"
      },
      "source": [
        "* Using LGBMClassifier"
      ]
    },
    {
      "cell_type": "code",
      "execution_count": null,
      "id": "aeeb906d",
      "metadata": {
        "_kg_hide-input": true,
        "execution": {
          "iopub.execute_input": "2023-03-15T16:49:51.343834Z",
          "iopub.status.busy": "2023-03-15T16:49:51.343383Z",
          "iopub.status.idle": "2023-03-15T16:50:19.355599Z",
          "shell.execute_reply": "2023-03-15T16:50:19.354275Z"
        },
        "papermill": {
          "duration": 28.043411,
          "end_time": "2023-03-15T16:50:19.358154",
          "exception": false,
          "start_time": "2023-03-15T16:49:51.314743",
          "status": "completed"
        },
        "tags": [],
        "id": "aeeb906d",
        "outputId": "69ca3fc3-017a-4d8a-bf0d-42adba978e6e"
      },
      "outputs": [
        {
          "name": "stdout",
          "output_type": "stream",
          "text": [
            "#######################################################################\n",
            "Training and Evaluation using LGBMClassifier\n",
            "#######################################################################\n",
            "preprocess - Categorical: Missing value Impute, OneHotEncoding and Scaling\n",
            "preprocess - Numerical: Missing value Impute and Scaling\n",
            "###########################################################################\n",
            "[Pipeline] ........ (step 1 of 6) Processing preprocess, total=   2.4s\n",
            "[Pipeline] ...... (step 2 of 6) Processing over_sampler, total=   9.2s\n",
            "[Pipeline] ..... (step 3 of 6) Processing under_sampler, total=   0.1s\n",
            "[Pipeline] . (step 4 of 6) Processing feature_selection, total=   9.5s\n",
            "[Pipeline]  (step 5 of 6) Processing dimension_reduction, total=   0.3s\n",
            "[Pipeline] ... (step 6 of 6) Processing model_estimator, total=   2.4s\n",
            "#######################################################################\n",
            "Pipeline(steps=[('preprocess',\n",
            "                 ColumnTransformer(transformers=[('cat',\n",
            "                                                  Pipeline(steps=[('imputer',\n",
            "                                                                   SimpleImputer(strategy='most_frequent')),\n",
            "                                                                  ('encoder',\n",
            "                                                                   OneHotEncoder(handle_unknown='ignore',\n",
            "                                                                                 sparse=False)),\n",
            "                                                                  ('scaler',\n",
            "                                                                   StandardScaler())]),\n",
            "                                                  ['D_63', 'D_64', 'D_68',\n",
            "                                                   'B_30', 'B_38', 'D_114',\n",
            "                                                   'D_116', 'D_117', 'D_120',\n",
            "                                                   'D_126']),\n",
            "                                                 ('num',\n",
            "                                                  Pipeline(steps=[('imputer',\n",
            "                                                                   SimpleI...\n",
            "                                                   'R_3', 'D_52', 'P_3', 'B_10',\n",
            "                                                   'D_53', 'S_5', 'B_11', ...])])),\n",
            "                ('over_sampler', SMOTE(random_state=42)),\n",
            "                ('under_sampler', RandomUnderSampler()),\n",
            "                ('feature_selection',\n",
            "                 SelectFromModel(estimator=RandomForestClassifier(n_estimators=10,\n",
            "                                                                  n_jobs=-1,\n",
            "                                                                  random_state=42))),\n",
            "                ('dimension_reduction',\n",
            "                 PCA(n_components='mle', random_state=42)),\n",
            "                ('model_estimator', LGBMClassifier())],\n",
            "         verbose=True)\n",
            "#######################################################################\n",
            "model training score: 0.876\n",
            "model validation score: 0.858\n",
            "#######################################################################\n",
            "Amex Evaluation Metric - Training: 0.026\n",
            "Amex Evaluation Metric - Validation: -0.002\n",
            "#######################################################################\n"
          ]
        }
      ],
      "source": [
        "# using LGBMClassifier\n",
        "pipe.set_params(model_estimator=LGBMClassifier())\n",
        "# using custom function to display model training and validation score\n",
        "model_score(\"LGBMClassifier\")"
      ]
    },
    {
      "cell_type": "markdown",
      "id": "e72da8ea",
      "metadata": {
        "papermill": {
          "duration": 0.025842,
          "end_time": "2023-03-15T16:50:19.410751",
          "exception": false,
          "start_time": "2023-03-15T16:50:19.384909",
          "status": "completed"
        },
        "tags": [],
        "id": "e72da8ea"
      },
      "source": [
        "---\n",
        "Using LGBMClassifier with Cross-Validation and scoring with accuracy, precision, recall, f1-score and ROC AUC\n",
        "\n",
        "---"
      ]
    },
    {
      "cell_type": "code",
      "execution_count": null,
      "id": "42eb917e",
      "metadata": {
        "_kg_hide-input": true,
        "execution": {
          "iopub.execute_input": "2023-03-15T16:50:19.464396Z",
          "iopub.status.busy": "2023-03-15T16:50:19.463291Z",
          "iopub.status.idle": "2023-03-15T16:52:01.679955Z",
          "shell.execute_reply": "2023-03-15T16:52:01.678647Z"
        },
        "papermill": {
          "duration": 102.273179,
          "end_time": "2023-03-15T16:52:01.709479",
          "exception": false,
          "start_time": "2023-03-15T16:50:19.436300",
          "status": "completed"
        },
        "tags": [],
        "id": "42eb917e",
        "outputId": "fb6fcc61-4969-4799-abb9-8619b6d007af"
      },
      "outputs": [
        {
          "name": "stdout",
          "output_type": "stream",
          "text": [
            "#######################################################################\n",
            "Training and Evaluation with Cross Validation using LGBMClassifier\n",
            "#######################################################################\n",
            "Training Score: Accuracy: 0.88, Precision: 0.70, Recall: 0.93,f1-score: 0.80, ROC AUC: 0.96\n",
            "Validation Score: Accuracy: 0.86, Precision: 0.67, Recall: 0.91,f1-score: 0.77, ROC AUC: 0.95\n",
            "#######################################################################\n"
          ]
        }
      ],
      "source": [
        "#using custom function to display cross validation score\n",
        "model_cross_validation_score(\"LGBMClassifier\")"
      ]
    },
    {
      "cell_type": "markdown",
      "id": "5fa71fd5",
      "metadata": {
        "papermill": {
          "duration": 0.026623,
          "end_time": "2023-03-15T16:52:01.762873",
          "exception": false,
          "start_time": "2023-03-15T16:52:01.736250",
          "status": "completed"
        },
        "tags": [],
        "id": "5fa71fd5"
      },
      "source": [
        "* Using CatBoostClassifier"
      ]
    },
    {
      "cell_type": "code",
      "execution_count": null,
      "id": "3ade1a75",
      "metadata": {
        "_kg_hide-input": true,
        "execution": {
          "iopub.execute_input": "2023-03-15T16:52:01.818871Z",
          "iopub.status.busy": "2023-03-15T16:52:01.818381Z",
          "iopub.status.idle": "2023-03-15T16:52:29.570263Z",
          "shell.execute_reply": "2023-03-15T16:52:29.568774Z"
        },
        "papermill": {
          "duration": 27.783069,
          "end_time": "2023-03-15T16:52:29.572771",
          "exception": false,
          "start_time": "2023-03-15T16:52:01.789702",
          "status": "completed"
        },
        "tags": [],
        "id": "3ade1a75",
        "outputId": "2c4931db-a294-449c-d878-2778c50984e7"
      },
      "outputs": [
        {
          "name": "stdout",
          "output_type": "stream",
          "text": [
            "#######################################################################\n",
            "Training and Evaluation using CatBoostClassifier\n",
            "#######################################################################\n",
            "preprocess - Categorical: Missing value Impute, OneHotEncoding and Scaling\n",
            "preprocess - Numerical: Missing value Impute and Scaling\n",
            "###########################################################################\n",
            "[Pipeline] ........ (step 1 of 6) Processing preprocess, total=   2.4s\n",
            "[Pipeline] ...... (step 2 of 6) Processing over_sampler, total=   9.0s\n",
            "[Pipeline] ..... (step 3 of 6) Processing under_sampler, total=   0.1s\n",
            "[Pipeline] . (step 4 of 6) Processing feature_selection, total=   9.6s\n",
            "[Pipeline]  (step 5 of 6) Processing dimension_reduction, total=   0.2s\n",
            "0:\tlearn: 0.3881795\ttotal: 106ms\tremaining: 211ms\n",
            "1:\tlearn: 0.3682953\ttotal: 138ms\tremaining: 69.2ms\n",
            "2:\tlearn: 0.3571750\ttotal: 169ms\tremaining: 0us\n",
            "[Pipeline] ... (step 6 of 6) Processing model_estimator, total=   0.5s\n",
            "#######################################################################\n",
            "Pipeline(steps=[('preprocess',\n",
            "                 ColumnTransformer(transformers=[('cat',\n",
            "                                                  Pipeline(steps=[('imputer',\n",
            "                                                                   SimpleImputer(strategy='most_frequent')),\n",
            "                                                                  ('encoder',\n",
            "                                                                   OneHotEncoder(handle_unknown='ignore',\n",
            "                                                                                 sparse=False)),\n",
            "                                                                  ('scaler',\n",
            "                                                                   StandardScaler())]),\n",
            "                                                  ['D_63', 'D_64', 'D_68',\n",
            "                                                   'B_30', 'B_38', 'D_114',\n",
            "                                                   'D_116', 'D_117', 'D_120',\n",
            "                                                   'D_126']),\n",
            "                                                 ('num',\n",
            "                                                  Pipeline(steps=[('imputer',\n",
            "                                                                   SimpleI...\n",
            "                                                   'D_53', 'S_5', 'B_11', ...])])),\n",
            "                ('over_sampler', SMOTE(random_state=42)),\n",
            "                ('under_sampler', RandomUnderSampler()),\n",
            "                ('feature_selection',\n",
            "                 SelectFromModel(estimator=RandomForestClassifier(n_estimators=10,\n",
            "                                                                  n_jobs=-1,\n",
            "                                                                  random_state=42))),\n",
            "                ('dimension_reduction',\n",
            "                 PCA(n_components='mle', random_state=42)),\n",
            "                ('model_estimator',\n",
            "                 <catboost.core.CatBoostClassifier object at 0x7fe4556c6390>)],\n",
            "         verbose=True)\n",
            "#######################################################################\n",
            "model training score: 0.830\n",
            "model validation score: 0.824\n",
            "#######################################################################\n",
            "Amex Evaluation Metric - Training: 0.019\n",
            "Amex Evaluation Metric - Validation: -0.002\n",
            "#######################################################################\n"
          ]
        }
      ],
      "source": [
        "# using CatBoostClassifier\n",
        "pipe.set_params(model_estimator=CatBoostClassifier(iterations=3,learning_rate=1,depth=6))\n",
        "# using custom function to display model training and validation score\n",
        "model_score(\"CatBoostClassifier\")"
      ]
    },
    {
      "cell_type": "markdown",
      "id": "bc4d333b",
      "metadata": {
        "papermill": {
          "duration": 0.027144,
          "end_time": "2023-03-15T16:52:29.628090",
          "exception": false,
          "start_time": "2023-03-15T16:52:29.600946",
          "status": "completed"
        },
        "tags": [],
        "id": "bc4d333b"
      },
      "source": [
        "---\n",
        "Using CatBoostClassifier with Cross-Validation and scoring with accuracy, precision, recall, f1-score and ROC AUC\n",
        "\n",
        "---"
      ]
    },
    {
      "cell_type": "code",
      "execution_count": null,
      "id": "170e8e06",
      "metadata": {
        "_kg_hide-input": true,
        "execution": {
          "iopub.execute_input": "2023-03-15T16:52:29.685008Z",
          "iopub.status.busy": "2023-03-15T16:52:29.684545Z",
          "iopub.status.idle": "2023-03-15T16:54:01.710707Z",
          "shell.execute_reply": "2023-03-15T16:54:01.709427Z"
        },
        "papermill": {
          "duration": 92.085048,
          "end_time": "2023-03-15T16:54:01.740652",
          "exception": false,
          "start_time": "2023-03-15T16:52:29.655604",
          "status": "completed"
        },
        "tags": [],
        "id": "170e8e06",
        "outputId": "7c1553e9-7856-4d61-c37c-fee7d055fd31"
      },
      "outputs": [
        {
          "name": "stdout",
          "output_type": "stream",
          "text": [
            "#######################################################################\n",
            "Training and Evaluation with Cross Validation using CatBoostClassifier\n",
            "#######################################################################\n",
            "Training Score: Accuracy: 0.83, Precision: 0.61, Recall: 0.89,f1-score: 0.72, ROC AUC: 0.92\n",
            "Validation Score: Accuracy: 0.83, Precision: 0.61, Recall: 0.88,f1-score: 0.72, ROC AUC: 0.92\n",
            "#######################################################################\n"
          ]
        }
      ],
      "source": [
        "#using custom function to display cross validation score\n",
        "model_cross_validation_score(\"CatBoostClassifier\")"
      ]
    },
    {
      "cell_type": "code",
      "execution_count": null,
      "id": "f3cfae6a",
      "metadata": {
        "_kg_hide-input": true,
        "execution": {
          "iopub.execute_input": "2023-03-15T16:54:01.798281Z",
          "iopub.status.busy": "2023-03-15T16:54:01.797750Z",
          "iopub.status.idle": "2023-03-15T16:54:01.802450Z",
          "shell.execute_reply": "2023-03-15T16:54:01.801294Z"
        },
        "papermill": {
          "duration": 0.035719,
          "end_time": "2023-03-15T16:54:01.804588",
          "exception": false,
          "start_time": "2023-03-15T16:54:01.768869",
          "status": "completed"
        },
        "tags": [],
        "id": "f3cfae6a"
      },
      "outputs": [],
      "source": [
        "# param_grid = dict(model_estimator=[XGBClassifier(),LGBMClassifier()])\n",
        "# grid_search = GridSearchCV(pipe, param_grid=param_grid, scoring='roc_auc',cv=3,verbose=3, n_jobs=-1).fit(X,y)"
      ]
    },
    {
      "cell_type": "code",
      "execution_count": null,
      "id": "65983f94",
      "metadata": {
        "_kg_hide-input": true,
        "execution": {
          "iopub.execute_input": "2023-03-15T16:54:01.861702Z",
          "iopub.status.busy": "2023-03-15T16:54:01.861190Z",
          "iopub.status.idle": "2023-03-15T16:54:01.866032Z",
          "shell.execute_reply": "2023-03-15T16:54:01.864913Z"
        },
        "papermill": {
          "duration": 0.036084,
          "end_time": "2023-03-15T16:54:01.868297",
          "exception": false,
          "start_time": "2023-03-15T16:54:01.832213",
          "status": "completed"
        },
        "tags": [],
        "id": "65983f94"
      },
      "outputs": [],
      "source": [
        "#estimator which gave higher score\n",
        "#grid_search.best_estimator_"
      ]
    },
    {
      "cell_type": "markdown",
      "id": "f3f62574",
      "metadata": {
        "papermill": {
          "duration": 0.026779,
          "end_time": "2023-03-15T16:54:01.922491",
          "exception": false,
          "start_time": "2023-03-15T16:54:01.895712",
          "status": "completed"
        },
        "tags": [],
        "id": "f3f62574"
      },
      "source": [
        "* Using RandomizedSearchCV for XGBClassifier"
      ]
    },
    {
      "cell_type": "code",
      "execution_count": null,
      "id": "f6cea0c8",
      "metadata": {
        "_kg_hide-input": true,
        "execution": {
          "iopub.execute_input": "2023-03-15T16:54:01.980160Z",
          "iopub.status.busy": "2023-03-15T16:54:01.979639Z",
          "iopub.status.idle": "2023-03-15T16:54:01.987117Z",
          "shell.execute_reply": "2023-03-15T16:54:01.985972Z"
        },
        "papermill": {
          "duration": 0.038877,
          "end_time": "2023-03-15T16:54:01.989478",
          "exception": false,
          "start_time": "2023-03-15T16:54:01.950601",
          "status": "completed"
        },
        "tags": [],
        "id": "f6cea0c8"
      },
      "outputs": [],
      "source": [
        "# using parameters for RandomizedSearchCV for XGBClassifier\n",
        "param_random = dict(model_estimator=[XGBClassifier()],model_estimator__learning_rate= [0.05,0.10,0.15,0.20,0.25,0.30],model_estimator__max_depth= [ 3, 4, 5, 6, 8, 10, 12, 15],model_estimator__min_child_weight=[ 1, 3, 5, 7 ], model_estimator__gamma=[ 0.0, 0.1, 0.2 , 0.3, 0.4 ], model_estimator__colsample_bytree =[ 0.3, 0.4, 0.5 , 0.7 ])\n",
        "random_search = RandomizedSearchCV(pipe, param_distributions=param_random, n_iter=1, cv=3, scoring='roc_auc', verbose=3,random_state=42)"
      ]
    },
    {
      "cell_type": "markdown",
      "id": "9d6ca771",
      "metadata": {
        "papermill": {
          "duration": 0.027425,
          "end_time": "2023-03-15T16:54:02.045198",
          "exception": false,
          "start_time": "2023-03-15T16:54:02.017773",
          "status": "completed"
        },
        "tags": [],
        "id": "9d6ca771"
      },
      "source": [
        "Best Estimator for XGBClassifier for this training sample"
      ]
    },
    {
      "cell_type": "code",
      "execution_count": null,
      "id": "303c3c89",
      "metadata": {
        "_kg_hide-input": true,
        "execution": {
          "iopub.execute_input": "2023-03-15T16:54:02.103452Z",
          "iopub.status.busy": "2023-03-15T16:54:02.103009Z",
          "iopub.status.idle": "2023-03-15T16:56:22.011149Z",
          "shell.execute_reply": "2023-03-15T16:56:22.009852Z"
        },
        "papermill": {
          "duration": 139.940468,
          "end_time": "2023-03-15T16:56:22.014015",
          "exception": false,
          "start_time": "2023-03-15T16:54:02.073547",
          "status": "completed"
        },
        "tags": [],
        "id": "303c3c89",
        "outputId": "c01c529c-4722-4e3d-977f-0954ded6b30c"
      },
      "outputs": [
        {
          "name": "stdout",
          "output_type": "stream",
          "text": [
            "#######################################################################\n",
            "Training and Evaluation with RandomizedSearchCV using XGBClassifier\n",
            "#######################################################################\n",
            "Fitting 3 folds for each of 1 candidates, totalling 3 fits\n",
            "[Pipeline] ........ (step 1 of 6) Processing preprocess, total=   1.6s\n",
            "[Pipeline] ...... (step 2 of 6) Processing over_sampler, total=   4.3s\n",
            "[Pipeline] ..... (step 3 of 6) Processing under_sampler, total=   0.1s\n",
            "[Pipeline] . (step 4 of 6) Processing feature_selection, total=   6.3s\n",
            "[Pipeline]  (step 5 of 6) Processing dimension_reduction, total=   0.2s\n",
            "[Pipeline] ... (step 6 of 6) Processing model_estimator, total=  15.7s\n",
            "[CV 1/3] END model_estimator=XGBClassifier(base_score=None, booster=None, callbacks=None,\n",
            "              colsample_bylevel=None, colsample_bynode=None,\n",
            "              colsample_bytree=None, early_stopping_rounds=None,\n",
            "              enable_categorical=False, eval_metric=None, gamma=None,\n",
            "              gpu_id=None, grow_policy=None, importance_type=None,\n",
            "              interaction_constraints=None, learning_rate=None, max_bin=None,\n",
            "              max_cat_to_onehot=None, max_delta_step=None, max_depth=None,\n",
            "              max_leaves=None, min_child_weight=None, missing=nan,\n",
            "              monotone_constraints=None, n_estimators=100, n_jobs=None,\n",
            "              num_parallel_tree=None, predictor=None, random_state=None,\n",
            "              reg_alpha=None, reg_lambda=None, ...), model_estimator__colsample_bytree=0.7, model_estimator__gamma=0.1, model_estimator__learning_rate=0.2, model_estimator__max_depth=4, model_estimator__min_child_weight=5;, score=0.937 total time=  28.6s\n",
            "[Pipeline] ........ (step 1 of 6) Processing preprocess, total=   1.6s\n",
            "[Pipeline] ...... (step 2 of 6) Processing over_sampler, total=   4.5s\n",
            "[Pipeline] ..... (step 3 of 6) Processing under_sampler, total=   0.1s\n",
            "[Pipeline] . (step 4 of 6) Processing feature_selection, total=   6.1s\n",
            "[Pipeline]  (step 5 of 6) Processing dimension_reduction, total=   0.2s\n",
            "[Pipeline] ... (step 6 of 6) Processing model_estimator, total=  15.8s\n",
            "[CV 2/3] END model_estimator=XGBClassifier(base_score=None, booster=None, callbacks=None,\n",
            "              colsample_bylevel=None, colsample_bynode=None,\n",
            "              colsample_bytree=None, early_stopping_rounds=None,\n",
            "              enable_categorical=False, eval_metric=None, gamma=None,\n",
            "              gpu_id=None, grow_policy=None, importance_type=None,\n",
            "              interaction_constraints=None, learning_rate=None, max_bin=None,\n",
            "              max_cat_to_onehot=None, max_delta_step=None, max_depth=None,\n",
            "              max_leaves=None, min_child_weight=None, missing=nan,\n",
            "              monotone_constraints=None, n_estimators=100, n_jobs=None,\n",
            "              num_parallel_tree=None, predictor=None, random_state=None,\n",
            "              reg_alpha=None, reg_lambda=None, ...), model_estimator__colsample_bytree=0.7, model_estimator__gamma=0.1, model_estimator__learning_rate=0.2, model_estimator__max_depth=4, model_estimator__min_child_weight=5;, score=0.937 total time=  28.7s\n",
            "[Pipeline] ........ (step 1 of 6) Processing preprocess, total=   1.5s\n",
            "[Pipeline] ...... (step 2 of 6) Processing over_sampler, total=   4.1s\n",
            "[Pipeline] ..... (step 3 of 6) Processing under_sampler, total=   0.1s\n",
            "[Pipeline] . (step 4 of 6) Processing feature_selection, total=   6.2s\n",
            "[Pipeline]  (step 5 of 6) Processing dimension_reduction, total=   0.3s\n",
            "[Pipeline] ... (step 6 of 6) Processing model_estimator, total=  18.3s\n",
            "[CV 3/3] END model_estimator=XGBClassifier(base_score=None, booster=None, callbacks=None,\n",
            "              colsample_bylevel=None, colsample_bynode=None,\n",
            "              colsample_bytree=None, early_stopping_rounds=None,\n",
            "              enable_categorical=False, eval_metric=None, gamma=None,\n",
            "              gpu_id=None, grow_policy=None, importance_type=None,\n",
            "              interaction_constraints=None, learning_rate=None, max_bin=None,\n",
            "              max_cat_to_onehot=None, max_delta_step=None, max_depth=None,\n",
            "              max_leaves=None, min_child_weight=None, missing=nan,\n",
            "              monotone_constraints=None, n_estimators=100, n_jobs=None,\n",
            "              num_parallel_tree=None, predictor=None, random_state=None,\n",
            "              reg_alpha=None, reg_lambda=None, ...), model_estimator__colsample_bytree=0.7, model_estimator__gamma=0.1, model_estimator__learning_rate=0.2, model_estimator__max_depth=4, model_estimator__min_child_weight=5;, score=0.942 total time=  31.0s\n",
            "[Pipeline] ........ (step 1 of 6) Processing preprocess, total=   2.4s\n",
            "[Pipeline] ...... (step 2 of 6) Processing over_sampler, total=   8.9s\n",
            "[Pipeline] ..... (step 3 of 6) Processing under_sampler, total=   0.1s\n",
            "[Pipeline] . (step 4 of 6) Processing feature_selection, total=  10.0s\n",
            "[Pipeline]  (step 5 of 6) Processing dimension_reduction, total=   0.3s\n",
            "[Pipeline] ... (step 6 of 6) Processing model_estimator, total=  27.5s\n",
            "Best Estimator for XGBClassifier is Pipeline(steps=[('preprocess',\n",
            "                 ColumnTransformer(transformers=[('cat',\n",
            "                                                  Pipeline(steps=[('imputer',\n",
            "                                                                   SimpleImputer(strategy='most_frequent')),\n",
            "                                                                  ('encoder',\n",
            "                                                                   OneHotEncoder(handle_unknown='ignore',\n",
            "                                                                                 sparse=False)),\n",
            "                                                                  ('scaler',\n",
            "                                                                   StandardScaler())]),\n",
            "                                                  ['D_63', 'D_64', 'D_68',\n",
            "                                                   'B_30', 'B_38', 'D_114',\n",
            "                                                   'D_116', 'D_117', 'D_120',\n",
            "                                                   'D_126']),\n",
            "                                                 ('num',\n",
            "                                                  Pipeline(steps=[('imputer',\n",
            "                                                                   SimpleI...\n",
            "                               gamma=0.1, gpu_id=-1, grow_policy='depthwise',\n",
            "                               importance_type=None, interaction_constraints='',\n",
            "                               learning_rate=0.2, max_bin=256,\n",
            "                               max_cat_to_onehot=4, max_delta_step=0,\n",
            "                               max_depth=4, max_leaves=0, min_child_weight=5,\n",
            "                               missing=nan, monotone_constraints='()',\n",
            "                               n_estimators=100, n_jobs=0, num_parallel_tree=1,\n",
            "                               predictor='auto', random_state=0, reg_alpha=0,\n",
            "                               reg_lambda=1, ...))],\n",
            "         verbose=True) with best score as 0.9384526636449041\n",
            "#######################################################################\n",
            "Amex Evaluation Metric - Training: 0.025\n",
            "Amex Evaluation Metric - Validation: -0.002\n",
            "#######################################################################\n"
          ]
        }
      ],
      "source": [
        "#using custom function to display best estimator and score\n",
        "model_random_search_score(\"XGBClassifier\")"
      ]
    },
    {
      "cell_type": "markdown",
      "id": "7efbcfa1",
      "metadata": {
        "papermill": {
          "duration": 0.029043,
          "end_time": "2023-03-15T16:56:22.072727",
          "exception": false,
          "start_time": "2023-03-15T16:56:22.043684",
          "status": "completed"
        },
        "tags": [],
        "id": "7efbcfa1"
      },
      "source": [
        "* Using RandomizedSearchCV for LGBMClassifier"
      ]
    },
    {
      "cell_type": "code",
      "execution_count": null,
      "id": "33388f3c",
      "metadata": {
        "_kg_hide-input": true,
        "execution": {
          "iopub.execute_input": "2023-03-15T16:56:22.135095Z",
          "iopub.status.busy": "2023-03-15T16:56:22.134659Z",
          "iopub.status.idle": "2023-03-15T16:56:22.142423Z",
          "shell.execute_reply": "2023-03-15T16:56:22.141316Z"
        },
        "papermill": {
          "duration": 0.041777,
          "end_time": "2023-03-15T16:56:22.144892",
          "exception": false,
          "start_time": "2023-03-15T16:56:22.103115",
          "status": "completed"
        },
        "tags": [],
        "id": "33388f3c"
      },
      "outputs": [],
      "source": [
        "# using parameters for RandomizedSearchCV for LGBMClassifier\n",
        "param_random = dict(model_estimator=[LGBMClassifier()],model_estimator__num_leaves= [20,40,60,80,100],model_estimator__min_child_samples= [5,10,15],model_estimator__max_depth=[-1,5,10,20], model_estimator__learning_rate=[0.05,0.1,0.2], model_estimator__reg_alpha =[0,0.01,0.03])\n",
        "random_search = RandomizedSearchCV(pipe, param_distributions=param_random, n_iter=1, cv=3, scoring='roc_auc', verbose=3,random_state=42)"
      ]
    },
    {
      "cell_type": "markdown",
      "id": "431d09ca",
      "metadata": {
        "papermill": {
          "duration": 0.029166,
          "end_time": "2023-03-15T16:56:22.203856",
          "exception": false,
          "start_time": "2023-03-15T16:56:22.174690",
          "status": "completed"
        },
        "tags": [],
        "id": "431d09ca"
      },
      "source": [
        "Best Estimator for LGBMClassifier for this training sample"
      ]
    },
    {
      "cell_type": "code",
      "execution_count": null,
      "id": "a1650d2e",
      "metadata": {
        "_kg_hide-input": true,
        "execution": {
          "iopub.execute_input": "2023-03-15T16:56:22.264921Z",
          "iopub.status.busy": "2023-03-15T16:56:22.264478Z",
          "iopub.status.idle": "2023-03-15T16:57:42.725468Z",
          "shell.execute_reply": "2023-03-15T16:57:42.724276Z"
        },
        "papermill": {
          "duration": 80.494666,
          "end_time": "2023-03-15T16:57:42.727998",
          "exception": false,
          "start_time": "2023-03-15T16:56:22.233332",
          "status": "completed"
        },
        "tags": [],
        "id": "a1650d2e",
        "outputId": "5184b6d9-7101-41f0-b5ef-988d1633ede2"
      },
      "outputs": [
        {
          "name": "stdout",
          "output_type": "stream",
          "text": [
            "#######################################################################\n",
            "Training and Evaluation with RandomizedSearchCV using LGBMClassifier\n",
            "#######################################################################\n",
            "Fitting 3 folds for each of 1 candidates, totalling 3 fits\n",
            "[Pipeline] ........ (step 1 of 6) Processing preprocess, total=   1.6s\n",
            "[Pipeline] ...... (step 2 of 6) Processing over_sampler, total=   4.3s\n",
            "[Pipeline] ..... (step 3 of 6) Processing under_sampler, total=   0.1s\n",
            "[Pipeline] . (step 4 of 6) Processing feature_selection, total=   6.3s\n",
            "[Pipeline]  (step 5 of 6) Processing dimension_reduction, total=   0.2s\n",
            "[Pipeline] ... (step 6 of 6) Processing model_estimator, total=   5.0s\n",
            "[CV 1/3] END model_estimator=LGBMClassifier(), model_estimator__learning_rate=0.05, model_estimator__max_depth=10, model_estimator__min_child_samples=5, model_estimator__num_leaves=100, model_estimator__reg_alpha=0;, score=0.946 total time=  18.0s\n",
            "[Pipeline] ........ (step 1 of 6) Processing preprocess, total=   1.6s\n",
            "[Pipeline] ...... (step 2 of 6) Processing over_sampler, total=   4.5s\n",
            "[Pipeline] ..... (step 3 of 6) Processing under_sampler, total=   0.1s\n",
            "[Pipeline] . (step 4 of 6) Processing feature_selection, total=   6.2s\n",
            "[Pipeline]  (step 5 of 6) Processing dimension_reduction, total=   0.2s\n",
            "[Pipeline] ... (step 6 of 6) Processing model_estimator, total=   4.1s\n",
            "[CV 2/3] END model_estimator=LGBMClassifier(), model_estimator__learning_rate=0.05, model_estimator__max_depth=10, model_estimator__min_child_samples=5, model_estimator__num_leaves=100, model_estimator__reg_alpha=0;, score=0.947 total time=  17.2s\n",
            "[Pipeline] ........ (step 1 of 6) Processing preprocess, total=   1.5s\n",
            "[Pipeline] ...... (step 2 of 6) Processing over_sampler, total=   4.1s\n",
            "[Pipeline] ..... (step 3 of 6) Processing under_sampler, total=   0.1s\n",
            "[Pipeline] . (step 4 of 6) Processing feature_selection, total=   6.2s\n",
            "[Pipeline]  (step 5 of 6) Processing dimension_reduction, total=   0.2s\n",
            "[Pipeline] ... (step 6 of 6) Processing model_estimator, total=   3.4s\n",
            "[CV 3/3] END model_estimator=LGBMClassifier(), model_estimator__learning_rate=0.05, model_estimator__max_depth=10, model_estimator__min_child_samples=5, model_estimator__num_leaves=100, model_estimator__reg_alpha=0;, score=0.953 total time=  16.1s\n",
            "[Pipeline] ........ (step 1 of 6) Processing preprocess, total=   2.3s\n",
            "[Pipeline] ...... (step 2 of 6) Processing over_sampler, total=   9.0s\n",
            "[Pipeline] ..... (step 3 of 6) Processing under_sampler, total=   0.1s\n",
            "[Pipeline] . (step 4 of 6) Processing feature_selection, total=   9.6s\n",
            "[Pipeline]  (step 5 of 6) Processing dimension_reduction, total=   0.2s\n",
            "[Pipeline] ... (step 6 of 6) Processing model_estimator, total=   5.6s\n",
            "Best Estimator for LGBMClassifier is Pipeline(steps=[('preprocess',\n",
            "                 ColumnTransformer(transformers=[('cat',\n",
            "                                                  Pipeline(steps=[('imputer',\n",
            "                                                                   SimpleImputer(strategy='most_frequent')),\n",
            "                                                                  ('encoder',\n",
            "                                                                   OneHotEncoder(handle_unknown='ignore',\n",
            "                                                                                 sparse=False)),\n",
            "                                                                  ('scaler',\n",
            "                                                                   StandardScaler())]),\n",
            "                                                  ['D_63', 'D_64', 'D_68',\n",
            "                                                   'B_30', 'B_38', 'D_114',\n",
            "                                                   'D_116', 'D_117', 'D_120',\n",
            "                                                   'D_126']),\n",
            "                                                 ('num',\n",
            "                                                  Pipeline(steps=[('imputer',\n",
            "                                                                   SimpleI...\n",
            "                ('over_sampler', SMOTE(random_state=42)),\n",
            "                ('under_sampler', RandomUnderSampler()),\n",
            "                ('feature_selection',\n",
            "                 SelectFromModel(estimator=RandomForestClassifier(n_estimators=10,\n",
            "                                                                  n_jobs=-1,\n",
            "                                                                  random_state=42))),\n",
            "                ('dimension_reduction',\n",
            "                 PCA(n_components='mle', random_state=42)),\n",
            "                ('model_estimator',\n",
            "                 LGBMClassifier(learning_rate=0.05, max_depth=10,\n",
            "                                min_child_samples=5, num_leaves=100,\n",
            "                                reg_alpha=0))],\n",
            "         verbose=True) with best score as 0.9490517850850207\n",
            "#######################################################################\n",
            "Amex Evaluation Metric - Training: 0.024\n",
            "Amex Evaluation Metric - Validation: -0.003\n",
            "#######################################################################\n"
          ]
        }
      ],
      "source": [
        "#using custom function to display best estimator and score\n",
        "model_random_search_score(\"LGBMClassifier\")"
      ]
    },
    {
      "cell_type": "markdown",
      "id": "220a4d21",
      "metadata": {
        "papermill": {
          "duration": 0.030076,
          "end_time": "2023-03-15T16:57:42.789069",
          "exception": false,
          "start_time": "2023-03-15T16:57:42.758993",
          "status": "completed"
        },
        "tags": [],
        "id": "220a4d21"
      },
      "source": [
        "---\n",
        "**Prediction/Sample Submission file**\n",
        "\n",
        "---"
      ]
    },
    {
      "cell_type": "code",
      "execution_count": null,
      "id": "785b2992",
      "metadata": {
        "_kg_hide-input": true,
        "execution": {
          "iopub.execute_input": "2023-03-15T16:57:42.851612Z",
          "iopub.status.busy": "2023-03-15T16:57:42.851176Z",
          "iopub.status.idle": "2023-03-15T16:57:43.061778Z",
          "shell.execute_reply": "2023-03-15T16:57:43.060770Z"
        },
        "papermill": {
          "duration": 0.24523,
          "end_time": "2023-03-15T16:57:43.064598",
          "exception": false,
          "start_time": "2023-03-15T16:57:42.819368",
          "status": "completed"
        },
        "tags": [],
        "id": "785b2992"
      },
      "outputs": [],
      "source": [
        "test_df_new=test_df.reset_index()"
      ]
    },
    {
      "cell_type": "code",
      "execution_count": null,
      "id": "5ccc4126",
      "metadata": {
        "_kg_hide-input": true,
        "execution": {
          "iopub.execute_input": "2023-03-15T16:57:43.128817Z",
          "iopub.status.busy": "2023-03-15T16:57:43.128104Z",
          "iopub.status.idle": "2023-03-15T16:57:43.141233Z",
          "shell.execute_reply": "2023-03-15T16:57:43.140089Z"
        },
        "papermill": {
          "duration": 0.047705,
          "end_time": "2023-03-15T16:57:43.143534",
          "exception": false,
          "start_time": "2023-03-15T16:57:43.095829",
          "status": "completed"
        },
        "tags": [],
        "id": "5ccc4126"
      },
      "outputs": [],
      "source": [
        "del test_df"
      ]
    },
    {
      "cell_type": "code",
      "execution_count": null,
      "id": "18147f96",
      "metadata": {
        "_kg_hide-input": true,
        "execution": {
          "iopub.execute_input": "2023-03-15T16:57:43.207219Z",
          "iopub.status.busy": "2023-03-15T16:57:43.206824Z",
          "iopub.status.idle": "2023-03-15T16:57:43.296349Z",
          "shell.execute_reply": "2023-03-15T16:57:43.295304Z"
        },
        "papermill": {
          "duration": 0.124619,
          "end_time": "2023-03-15T16:57:43.299169",
          "exception": false,
          "start_time": "2023-03-15T16:57:43.174550",
          "status": "completed"
        },
        "tags": [],
        "id": "18147f96"
      },
      "outputs": [],
      "source": [
        "X_test_predict = test_df_new.groupby('customer_ID').tail(1)"
      ]
    },
    {
      "cell_type": "code",
      "execution_count": null,
      "id": "0c8b451d",
      "metadata": {
        "_kg_hide-input": true,
        "execution": {
          "iopub.execute_input": "2023-03-15T16:57:43.365109Z",
          "iopub.status.busy": "2023-03-15T16:57:43.364184Z",
          "iopub.status.idle": "2023-03-15T16:57:43.372041Z",
          "shell.execute_reply": "2023-03-15T16:57:43.370996Z"
        },
        "papermill": {
          "duration": 0.042658,
          "end_time": "2023-03-15T16:57:43.374461",
          "exception": false,
          "start_time": "2023-03-15T16:57:43.331803",
          "status": "completed"
        },
        "tags": [],
        "id": "0c8b451d",
        "outputId": "318df02b-5041-4aa0-a432-8d6f77f86644"
      },
      "outputs": [
        {
          "data": {
            "text/plain": [
              "(8154, 166)"
            ]
          },
          "execution_count": 56,
          "metadata": {},
          "output_type": "execute_result"
        }
      ],
      "source": [
        "X_test_predict.shape"
      ]
    },
    {
      "cell_type": "code",
      "execution_count": null,
      "id": "c81a0bbd",
      "metadata": {
        "_kg_hide-input": true,
        "execution": {
          "iopub.execute_input": "2023-03-15T16:57:43.439761Z",
          "iopub.status.busy": "2023-03-15T16:57:43.438669Z",
          "iopub.status.idle": "2023-03-15T16:57:43.445465Z",
          "shell.execute_reply": "2023-03-15T16:57:43.444536Z"
        },
        "papermill": {
          "duration": 0.041446,
          "end_time": "2023-03-15T16:57:43.447831",
          "exception": false,
          "start_time": "2023-03-15T16:57:43.406385",
          "status": "completed"
        },
        "tags": [],
        "id": "c81a0bbd"
      },
      "outputs": [],
      "source": [
        "X_test_predict.set_index('customer_ID', inplace=True)"
      ]
    },
    {
      "cell_type": "markdown",
      "id": "905e2e2e",
      "metadata": {
        "papermill": {
          "duration": 0.116158,
          "end_time": "2023-03-15T16:57:43.595047",
          "exception": false,
          "start_time": "2023-03-15T16:57:43.478889",
          "status": "completed"
        },
        "tags": [],
        "id": "905e2e2e"
      },
      "source": [
        "Prediction on test dataset "
      ]
    },
    {
      "cell_type": "code",
      "execution_count": null,
      "id": "2f28238c",
      "metadata": {
        "_kg_hide-input": true,
        "execution": {
          "iopub.execute_input": "2023-03-15T16:57:43.658687Z",
          "iopub.status.busy": "2023-03-15T16:57:43.657853Z",
          "iopub.status.idle": "2023-03-15T16:57:43.662980Z",
          "shell.execute_reply": "2023-03-15T16:57:43.661937Z"
        },
        "papermill": {
          "duration": 0.039382,
          "end_time": "2023-03-15T16:57:43.665197",
          "exception": false,
          "start_time": "2023-03-15T16:57:43.625815",
          "status": "completed"
        },
        "tags": [],
        "id": "2f28238c"
      },
      "outputs": [],
      "source": [
        "model = random_search.best_estimator_"
      ]
    },
    {
      "cell_type": "code",
      "execution_count": null,
      "id": "d7e833cf",
      "metadata": {
        "_kg_hide-input": true,
        "execution": {
          "iopub.execute_input": "2023-03-15T16:57:43.729625Z",
          "iopub.status.busy": "2023-03-15T16:57:43.729183Z",
          "iopub.status.idle": "2023-03-15T16:57:44.126188Z",
          "shell.execute_reply": "2023-03-15T16:57:44.124357Z"
        },
        "papermill": {
          "duration": 0.435651,
          "end_time": "2023-03-15T16:57:44.131817",
          "exception": false,
          "start_time": "2023-03-15T16:57:43.696166",
          "status": "completed"
        },
        "tags": [],
        "id": "d7e833cf"
      },
      "outputs": [],
      "source": [
        "# prediction on test dataset\n",
        "y_test_pred = model.predict(X_test_predict)"
      ]
    },
    {
      "cell_type": "markdown",
      "id": "8e11e170",
      "metadata": {
        "papermill": {
          "duration": 0.031535,
          "end_time": "2023-03-15T16:57:44.225205",
          "exception": false,
          "start_time": "2023-03-15T16:57:44.193670",
          "status": "completed"
        },
        "tags": [],
        "id": "8e11e170"
      },
      "source": [
        "Generation of submission.csv file with customer_ID and prediction as header"
      ]
    },
    {
      "cell_type": "code",
      "execution_count": null,
      "id": "0b34dbfe",
      "metadata": {
        "_kg_hide-input": true,
        "execution": {
          "iopub.execute_input": "2023-03-15T16:57:44.289071Z",
          "iopub.status.busy": "2023-03-15T16:57:44.288642Z",
          "iopub.status.idle": "2023-03-15T16:57:44.317740Z",
          "shell.execute_reply": "2023-03-15T16:57:44.316519Z"
        },
        "papermill": {
          "duration": 0.064852,
          "end_time": "2023-03-15T16:57:44.321047",
          "exception": false,
          "start_time": "2023-03-15T16:57:44.256195",
          "status": "completed"
        },
        "tags": [],
        "id": "0b34dbfe"
      },
      "outputs": [],
      "source": [
        "# generate submission file\n",
        "output = pd.DataFrame({'customer_ID': X_test_predict.index,'prediction': y_test_pred})\n",
        "output.to_csv('submission.csv', index=False, header=True)"
      ]
    },
    {
      "cell_type": "code",
      "execution_count": null,
      "id": "208ea038",
      "metadata": {
        "execution": {
          "iopub.execute_input": "2023-03-15T16:57:44.386665Z",
          "iopub.status.busy": "2023-03-15T16:57:44.385842Z",
          "iopub.status.idle": "2023-03-15T16:57:44.407750Z",
          "shell.execute_reply": "2023-03-15T16:57:44.406559Z"
        },
        "papermill": {
          "duration": 0.058241,
          "end_time": "2023-03-15T16:57:44.410754",
          "exception": false,
          "start_time": "2023-03-15T16:57:44.352513",
          "status": "completed"
        },
        "tags": [],
        "id": "208ea038",
        "outputId": "f56cb418-ff3f-448d-d4c9-8c36bde8db68"
      },
      "outputs": [
        {
          "data": {
            "text/html": [
              "<div>\n",
              "<style scoped>\n",
              "    .dataframe tbody tr th:only-of-type {\n",
              "        vertical-align: middle;\n",
              "    }\n",
              "\n",
              "    .dataframe tbody tr th {\n",
              "        vertical-align: top;\n",
              "    }\n",
              "\n",
              "    .dataframe thead th {\n",
              "        text-align: right;\n",
              "    }\n",
              "</style>\n",
              "<table border=\"1\" class=\"dataframe\">\n",
              "  <thead>\n",
              "    <tr style=\"text-align: right;\">\n",
              "      <th></th>\n",
              "      <th>customer_ID</th>\n",
              "      <th>prediction</th>\n",
              "    </tr>\n",
              "  </thead>\n",
              "  <tbody>\n",
              "    <tr>\n",
              "      <th>0</th>\n",
              "      <td>00000469ba478561f23a92a868bd366de6f6527a684c9a...</td>\n",
              "      <td>0</td>\n",
              "    </tr>\n",
              "    <tr>\n",
              "      <th>1</th>\n",
              "      <td>00001bf2e77ff879fab36aa4fac689b9ba411dae63ae39...</td>\n",
              "      <td>0</td>\n",
              "    </tr>\n",
              "    <tr>\n",
              "      <th>2</th>\n",
              "      <td>0000210045da4f81e5f122c6bde5c2a617d03eef67f82c...</td>\n",
              "      <td>0</td>\n",
              "    </tr>\n",
              "    <tr>\n",
              "      <th>3</th>\n",
              "      <td>00003b41e58ede33b8daf61ab56d9952f17c9ad1c3976c...</td>\n",
              "      <td>1</td>\n",
              "    </tr>\n",
              "    <tr>\n",
              "      <th>4</th>\n",
              "      <td>00004b22eaeeeb0ec976890c1d9bfc14fd9427e98c4ee9...</td>\n",
              "      <td>1</td>\n",
              "    </tr>\n",
              "    <tr>\n",
              "      <th>...</th>\n",
              "      <td>...</td>\n",
              "      <td>...</td>\n",
              "    </tr>\n",
              "    <tr>\n",
              "      <th>595</th>\n",
              "      <td>002b04bc284c6f177ba5ea9cbda2acf386f3f63e9b4b0c...</td>\n",
              "      <td>0</td>\n",
              "    </tr>\n",
              "    <tr>\n",
              "      <th>596</th>\n",
              "      <td>002b0f54b8c73ee987d39f12b8935ee539618769907c1d...</td>\n",
              "      <td>0</td>\n",
              "    </tr>\n",
              "    <tr>\n",
              "      <th>597</th>\n",
              "      <td>002b28c047310823468c7c51ad4a94b3e69abcba06b2c3...</td>\n",
              "      <td>1</td>\n",
              "    </tr>\n",
              "    <tr>\n",
              "      <th>598</th>\n",
              "      <td>002b2ec09090b45c471332644d5dc9dc9f7d5dc7fb8a2a...</td>\n",
              "      <td>0</td>\n",
              "    </tr>\n",
              "    <tr>\n",
              "      <th>599</th>\n",
              "      <td>002b631b26b90ffd31e31f5081c1443dee8dab74236910...</td>\n",
              "      <td>0</td>\n",
              "    </tr>\n",
              "  </tbody>\n",
              "</table>\n",
              "<p>600 rows × 2 columns</p>\n",
              "</div>"
            ],
            "text/plain": [
              "                                           customer_ID  prediction\n",
              "0    00000469ba478561f23a92a868bd366de6f6527a684c9a...           0\n",
              "1    00001bf2e77ff879fab36aa4fac689b9ba411dae63ae39...           0\n",
              "2    0000210045da4f81e5f122c6bde5c2a617d03eef67f82c...           0\n",
              "3    00003b41e58ede33b8daf61ab56d9952f17c9ad1c3976c...           1\n",
              "4    00004b22eaeeeb0ec976890c1d9bfc14fd9427e98c4ee9...           1\n",
              "..                                                 ...         ...\n",
              "595  002b04bc284c6f177ba5ea9cbda2acf386f3f63e9b4b0c...           0\n",
              "596  002b0f54b8c73ee987d39f12b8935ee539618769907c1d...           0\n",
              "597  002b28c047310823468c7c51ad4a94b3e69abcba06b2c3...           1\n",
              "598  002b2ec09090b45c471332644d5dc9dc9f7d5dc7fb8a2a...           0\n",
              "599  002b631b26b90ffd31e31f5081c1443dee8dab74236910...           0\n",
              "\n",
              "[600 rows x 2 columns]"
            ]
          },
          "execution_count": 61,
          "metadata": {},
          "output_type": "execute_result"
        }
      ],
      "source": [
        "output.head(600)"
      ]
    },
    {
      "cell_type": "markdown",
      "id": "50001ab2",
      "metadata": {
        "papermill": {
          "duration": 0.031066,
          "end_time": "2023-03-15T16:57:44.472952",
          "exception": false,
          "start_time": "2023-03-15T16:57:44.441886",
          "status": "completed"
        },
        "tags": [],
        "id": "50001ab2"
      },
      "source": [
        "---\n",
        "# Summary\n",
        "\n",
        "---"
      ]
    },
    {
      "cell_type": "markdown",
      "id": "3062a810",
      "metadata": {
        "papermill": {
          "duration": 0.030713,
          "end_time": "2023-03-15T16:57:44.534851",
          "exception": false,
          "start_time": "2023-03-15T16:57:44.504138",
          "status": "completed"
        },
        "tags": [],
        "id": "3062a810"
      },
      "source": [
        "* Variables (Columns) with missing value >= 75% was removed\n",
        "* SimpleImputer was used for Variables (Columns) with missing value <= 25%\n",
        "* OneHotEncoder was used for encoding Categorical Variables\n",
        "* SMOTE was used to address Data Imbalance along with RandomUnderSampler\n",
        "* RandomForestClassifier was used for Feature Selection\n",
        "* PCA was used for Dimensionality Reduction\n",
        "\n",
        "LGBMClassifier has been the fastest classifier on this 100k sample training dataset"
      ]
    },
    {
      "cell_type": "markdown",
      "id": "41b5c35d",
      "metadata": {
        "papermill": {
          "duration": 0.031659,
          "end_time": "2023-03-15T16:57:44.597463",
          "exception": false,
          "start_time": "2023-03-15T16:57:44.565804",
          "status": "completed"
        },
        "tags": [],
        "id": "41b5c35d"
      },
      "source": [
        "---\n",
        "# Next Steps\n",
        "\n",
        "---"
      ]
    },
    {
      "cell_type": "markdown",
      "id": "fb82c9de",
      "metadata": {
        "papermill": {
          "duration": 0.030125,
          "end_time": "2023-03-15T16:57:44.658669",
          "exception": false,
          "start_time": "2023-03-15T16:57:44.628544",
          "status": "completed"
        },
        "tags": [],
        "id": "fb82c9de"
      },
      "source": [
        "* **For Submission**\n",
        "    * Learning usage of Dask for reading large size CSV file\n",
        "    * Using Dask DataFrame and Dask ML API\n",
        "    * Minimum ~925000 unique test data points needed for prediction in submission file\n",
        "    * Generate submission.csv file with customer_ID and prediction as header"
      ]
    },
    {
      "cell_type": "markdown",
      "id": "b9aebcde",
      "metadata": {
        "papermill": {
          "duration": 0.030161,
          "end_time": "2023-03-15T16:57:44.719721",
          "exception": false,
          "start_time": "2023-03-15T16:57:44.689560",
          "status": "completed"
        },
        "tags": [],
        "id": "b9aebcde"
      },
      "source": [
        "---\n",
        "**Thank you and Happy Learning.**\n",
        "\n",
        "---"
      ]
    }
  ],
  "metadata": {
    "kernelspec": {
      "display_name": "Python 3",
      "language": "python",
      "name": "python3"
    },
    "language_info": {
      "codemirror_mode": {
        "name": "ipython",
        "version": 3
      },
      "file_extension": ".py",
      "mimetype": "text/x-python",
      "name": "python",
      "nbconvert_exporter": "python",
      "pygments_lexer": "ipython3",
      "version": "3.7.12"
    },
    "papermill": {
      "default_parameters": {},
      "duration": 1140.071467,
      "end_time": "2023-03-15T16:57:48.109991",
      "environment_variables": {},
      "exception": null,
      "input_path": "__notebook__.ipynb",
      "output_path": "__notebook__.ipynb",
      "parameters": {},
      "start_time": "2023-03-15T16:38:48.038524",
      "version": "2.3.4"
    },
    "colab": {
      "provenance": []
    }
  },
  "nbformat": 4,
  "nbformat_minor": 5
}