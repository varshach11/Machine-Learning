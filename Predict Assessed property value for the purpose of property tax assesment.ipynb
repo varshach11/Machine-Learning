{
 "cells": [
  {
   "cell_type": "markdown",
   "id": "6e2415aa",
   "metadata": {},
   "source": [
    "# Predict Assessed Property Value for The Purpose of Property Tax Assessment"
   ]
  },
  {
   "cell_type": "markdown",
   "id": "61ad9d80",
   "metadata": {},
   "source": [
    "# Task 1"
   ]
  },
  {
   "cell_type": "markdown",
   "id": "314216c2",
   "metadata": {},
   "source": [
    "# Importing Libraries"
   ]
  },
  {
   "cell_type": "code",
   "execution_count": 1,
   "id": "74d25e14",
   "metadata": {},
   "outputs": [],
   "source": [
    "#We are import the necessary libraries required \n",
    "import pandas as pd # pandas is used for data manipulation on dataframe\n",
    "import numpy as np #numpy is  used for mathematical operation on array\n",
    "import seaborn as sns # seaborn is used for data visualization\n",
    "import matplotlib.pyplot as plt # matplotlib is used for data visualizationV\n"
   ]
  },
  {
   "cell_type": "markdown",
   "id": "d533b853",
   "metadata": {},
   "source": [
    "# Task 2"
   ]
  },
  {
   "cell_type": "markdown",
   "id": "bdf31500",
   "metadata": {},
   "source": [
    "# Loading the Dataset"
   ]
  },
  {
   "cell_type": "code",
   "execution_count": 2,
   "id": "e3d09f34",
   "metadata": {},
   "outputs": [],
   "source": [
    "df=pd.read_csv(r\"C:\\Users\\Alisha DJ\\Downloads\\Traindata.csv\") # loading the data "
   ]
  },
  {
   "cell_type": "markdown",
   "id": "fc19cdb0",
   "metadata": {},
   "source": [
    "# Task 3"
   ]
  },
  {
   "cell_type": "markdown",
   "id": "2a8e8d3a",
   "metadata": {},
   "source": [
    "# EXPLORATORY DATA ANALYSIS"
   ]
  },
  {
   "cell_type": "code",
   "execution_count": 66,
   "id": "33ccf5f5",
   "metadata": {},
   "outputs": [
    {
     "data": {
      "text/html": [
       "<div>\n",
       "<style scoped>\n",
       "    .dataframe tbody tr th:only-of-type {\n",
       "        vertical-align: middle;\n",
       "    }\n",
       "\n",
       "    .dataframe tbody tr th {\n",
       "        vertical-align: top;\n",
       "    }\n",
       "\n",
       "    .dataframe thead th {\n",
       "        text-align: right;\n",
       "    }\n",
       "</style>\n",
       "<table border=\"1\" class=\"dataframe\">\n",
       "  <thead>\n",
       "    <tr style=\"text-align: right;\">\n",
       "      <th></th>\n",
       "      <th>PropertyID</th>\n",
       "      <th>Borough</th>\n",
       "      <th>State</th>\n",
       "      <th>Surroundings</th>\n",
       "      <th>Address</th>\n",
       "      <th>ZipCode</th>\n",
       "      <th>Block</th>\n",
       "      <th>Lot</th>\n",
       "      <th>BldgClassCategory</th>\n",
       "      <th>NoOfResidentialUnits</th>\n",
       "      <th>NoOfCommercialUnits</th>\n",
       "      <th>TotalNoOfUnits</th>\n",
       "      <th>LandAreaInSqFt</th>\n",
       "      <th>GrossAreaInSqFt</th>\n",
       "      <th>YearOfConstruction</th>\n",
       "      <th>TaxClass_AtEvaluationTime</th>\n",
       "      <th>BldgClass_AtEvaluationTime</th>\n",
       "      <th>DateOfEvaluation</th>\n",
       "      <th>PropertyEvaluationvalue</th>\n",
       "    </tr>\n",
       "  </thead>\n",
       "  <tbody>\n",
       "    <tr>\n",
       "      <th>0</th>\n",
       "      <td>PR11101</td>\n",
       "      <td>1</td>\n",
       "      <td>NY</td>\n",
       "      <td>BATHGATE</td>\n",
       "      <td>1473 CROTONA PLACE</td>\n",
       "      <td>10456</td>\n",
       "      <td>2927</td>\n",
       "      <td>127</td>\n",
       "      <td>02 TWO FAMILY DWELLINGS</td>\n",
       "      <td>2</td>\n",
       "      <td>0</td>\n",
       "      <td>2</td>\n",
       "      <td>1900</td>\n",
       "      <td>2394</td>\n",
       "      <td>1990</td>\n",
       "      <td>1</td>\n",
       "      <td>B1</td>\n",
       "      <td>30-05-2014</td>\n",
       "      <td>540000</td>\n",
       "    </tr>\n",
       "    <tr>\n",
       "      <th>1</th>\n",
       "      <td>PR11102</td>\n",
       "      <td>1</td>\n",
       "      <td>NY</td>\n",
       "      <td>BATHGATE</td>\n",
       "      <td>453 EAST 181</td>\n",
       "      <td>10457</td>\n",
       "      <td>3037</td>\n",
       "      <td>110</td>\n",
       "      <td>03 THREE FAMILY DWELLINGS</td>\n",
       "      <td>3</td>\n",
       "      <td>0</td>\n",
       "      <td>3</td>\n",
       "      <td>1687</td>\n",
       "      <td>3037</td>\n",
       "      <td>2002</td>\n",
       "      <td>1</td>\n",
       "      <td>C0</td>\n",
       "      <td>13-09-2014</td>\n",
       "      <td>750000</td>\n",
       "    </tr>\n",
       "    <tr>\n",
       "      <th>2</th>\n",
       "      <td>PR11103</td>\n",
       "      <td>1</td>\n",
       "      <td>NY</td>\n",
       "      <td>BATHGATE</td>\n",
       "      <td>511 EAST 171 STREET</td>\n",
       "      <td>10457</td>\n",
       "      <td>2912</td>\n",
       "      <td>155</td>\n",
       "      <td>02 TWO FAMILY DWELLINGS</td>\n",
       "      <td>2</td>\n",
       "      <td>0</td>\n",
       "      <td>2</td>\n",
       "      <td>2000</td>\n",
       "      <td>2400</td>\n",
       "      <td>1989</td>\n",
       "      <td>1</td>\n",
       "      <td>B1</td>\n",
       "      <td>28-09-2014</td>\n",
       "      <td>470000</td>\n",
       "    </tr>\n",
       "    <tr>\n",
       "      <th>3</th>\n",
       "      <td>PR11104</td>\n",
       "      <td>1</td>\n",
       "      <td>NY</td>\n",
       "      <td>BATHGATE</td>\n",
       "      <td>547 CLAREMONT PARKWAY</td>\n",
       "      <td>10457</td>\n",
       "      <td>2929</td>\n",
       "      <td>134</td>\n",
       "      <td>02 TWO FAMILY DWELLINGS</td>\n",
       "      <td>2</td>\n",
       "      <td>0</td>\n",
       "      <td>2</td>\n",
       "      <td>2356</td>\n",
       "      <td>2394</td>\n",
       "      <td>1991</td>\n",
       "      <td>1</td>\n",
       "      <td>B1</td>\n",
       "      <td>05-06-2014</td>\n",
       "      <td>570000</td>\n",
       "    </tr>\n",
       "    <tr>\n",
       "      <th>4</th>\n",
       "      <td>PR11105</td>\n",
       "      <td>1</td>\n",
       "      <td>NY</td>\n",
       "      <td>BATHGATE</td>\n",
       "      <td>2063 WASHINGTON AVENUE</td>\n",
       "      <td>10457</td>\n",
       "      <td>3036</td>\n",
       "      <td>140</td>\n",
       "      <td>02 TWO FAMILY DWELLINGS</td>\n",
       "      <td>2</td>\n",
       "      <td>0</td>\n",
       "      <td>2</td>\n",
       "      <td>3346</td>\n",
       "      <td>2308</td>\n",
       "      <td>1993</td>\n",
       "      <td>1</td>\n",
       "      <td>B1</td>\n",
       "      <td>07-02-2015</td>\n",
       "      <td>640000</td>\n",
       "    </tr>\n",
       "  </tbody>\n",
       "</table>\n",
       "</div>"
      ],
      "text/plain": [
       "  PropertyID  Borough State Surroundings                 Address  ZipCode  \\\n",
       "0    PR11101        1    NY     BATHGATE      1473 CROTONA PLACE    10456   \n",
       "1    PR11102        1    NY     BATHGATE            453 EAST 181    10457   \n",
       "2    PR11103        1    NY     BATHGATE     511 EAST 171 STREET    10457   \n",
       "3    PR11104        1    NY     BATHGATE   547 CLAREMONT PARKWAY    10457   \n",
       "4    PR11105        1    NY     BATHGATE  2063 WASHINGTON AVENUE    10457   \n",
       "\n",
       "   Block  Lot          BldgClassCategory  NoOfResidentialUnits  \\\n",
       "0   2927  127    02 TWO FAMILY DWELLINGS                     2   \n",
       "1   3037  110  03 THREE FAMILY DWELLINGS                     3   \n",
       "2   2912  155    02 TWO FAMILY DWELLINGS                     2   \n",
       "3   2929  134    02 TWO FAMILY DWELLINGS                     2   \n",
       "4   3036  140    02 TWO FAMILY DWELLINGS                     2   \n",
       "\n",
       "   NoOfCommercialUnits  TotalNoOfUnits  LandAreaInSqFt  GrossAreaInSqFt  \\\n",
       "0                    0               2            1900             2394   \n",
       "1                    0               3            1687             3037   \n",
       "2                    0               2            2000             2400   \n",
       "3                    0               2            2356             2394   \n",
       "4                    0               2            3346             2308   \n",
       "\n",
       "   YearOfConstruction  TaxClass_AtEvaluationTime BldgClass_AtEvaluationTime  \\\n",
       "0                1990                          1                         B1   \n",
       "1                2002                          1                         C0   \n",
       "2                1989                          1                         B1   \n",
       "3                1991                          1                         B1   \n",
       "4                1993                          1                         B1   \n",
       "\n",
       "  DateOfEvaluation  PropertyEvaluationvalue  \n",
       "0       30-05-2014                   540000  \n",
       "1       13-09-2014                   750000  \n",
       "2       28-09-2014                   470000  \n",
       "3       05-06-2014                   570000  \n",
       "4       07-02-2015                   640000  "
      ]
     },
     "execution_count": 66,
     "metadata": {},
     "output_type": "execute_result"
    }
   ],
   "source": [
    "df.head() # checking the first 5 rows of the data"
   ]
  },
  {
   "cell_type": "code",
   "execution_count": 28,
   "id": "9235d2e1",
   "metadata": {},
   "outputs": [
    {
     "data": {
      "text/html": [
       "<div>\n",
       "<style scoped>\n",
       "    .dataframe tbody tr th:only-of-type {\n",
       "        vertical-align: middle;\n",
       "    }\n",
       "\n",
       "    .dataframe tbody tr th {\n",
       "        vertical-align: top;\n",
       "    }\n",
       "\n",
       "    .dataframe thead th {\n",
       "        text-align: right;\n",
       "    }\n",
       "</style>\n",
       "<table border=\"1\" class=\"dataframe\">\n",
       "  <thead>\n",
       "    <tr style=\"text-align: right;\">\n",
       "      <th></th>\n",
       "      <th>Borough</th>\n",
       "      <th>ZipCode</th>\n",
       "      <th>Block</th>\n",
       "      <th>Lot</th>\n",
       "      <th>NoOfResidentialUnits</th>\n",
       "      <th>NoOfCommercialUnits</th>\n",
       "      <th>TotalNoOfUnits</th>\n",
       "      <th>LandAreaInSqFt</th>\n",
       "      <th>GrossAreaInSqFt</th>\n",
       "      <th>YearOfConstruction</th>\n",
       "      <th>...</th>\n",
       "      <th>DateOfEvaluation_31-05-2013</th>\n",
       "      <th>DateOfEvaluation_31-05-2014</th>\n",
       "      <th>DateOfEvaluation_31-07-2013</th>\n",
       "      <th>DateOfEvaluation_31-07-2014</th>\n",
       "      <th>DateOfEvaluation_31-08-2012</th>\n",
       "      <th>DateOfEvaluation_31-08-2014</th>\n",
       "      <th>DateOfEvaluation_31-10-2012</th>\n",
       "      <th>DateOfEvaluation_31-10-2014</th>\n",
       "      <th>DateOfEvaluation_31-12-2012</th>\n",
       "      <th>DateOfEvaluation_31-12-2014</th>\n",
       "    </tr>\n",
       "  </thead>\n",
       "  <tbody>\n",
       "    <tr>\n",
       "      <th>16805</th>\n",
       "      <td>4</td>\n",
       "      <td>10007</td>\n",
       "      <td>123</td>\n",
       "      <td>1213</td>\n",
       "      <td>1</td>\n",
       "      <td>0</td>\n",
       "      <td>1</td>\n",
       "      <td>29715</td>\n",
       "      <td>2803</td>\n",
       "      <td>2004</td>\n",
       "      <td>...</td>\n",
       "      <td>0</td>\n",
       "      <td>0</td>\n",
       "      <td>0</td>\n",
       "      <td>0</td>\n",
       "      <td>0</td>\n",
       "      <td>0</td>\n",
       "      <td>0</td>\n",
       "      <td>0</td>\n",
       "      <td>0</td>\n",
       "      <td>0</td>\n",
       "    </tr>\n",
       "    <tr>\n",
       "      <th>16806</th>\n",
       "      <td>4</td>\n",
       "      <td>10013</td>\n",
       "      <td>176</td>\n",
       "      <td>1054</td>\n",
       "      <td>1</td>\n",
       "      <td>0</td>\n",
       "      <td>1</td>\n",
       "      <td>12518</td>\n",
       "      <td>2252</td>\n",
       "      <td>2003</td>\n",
       "      <td>...</td>\n",
       "      <td>0</td>\n",
       "      <td>0</td>\n",
       "      <td>0</td>\n",
       "      <td>0</td>\n",
       "      <td>0</td>\n",
       "      <td>0</td>\n",
       "      <td>0</td>\n",
       "      <td>0</td>\n",
       "      <td>0</td>\n",
       "      <td>0</td>\n",
       "    </tr>\n",
       "    <tr>\n",
       "      <th>16807</th>\n",
       "      <td>4</td>\n",
       "      <td>10013</td>\n",
       "      <td>176</td>\n",
       "      <td>1102</td>\n",
       "      <td>1</td>\n",
       "      <td>0</td>\n",
       "      <td>1</td>\n",
       "      <td>12518</td>\n",
       "      <td>2177</td>\n",
       "      <td>2003</td>\n",
       "      <td>...</td>\n",
       "      <td>0</td>\n",
       "      <td>0</td>\n",
       "      <td>0</td>\n",
       "      <td>0</td>\n",
       "      <td>0</td>\n",
       "      <td>0</td>\n",
       "      <td>0</td>\n",
       "      <td>0</td>\n",
       "      <td>0</td>\n",
       "      <td>0</td>\n",
       "    </tr>\n",
       "    <tr>\n",
       "      <th>16808</th>\n",
       "      <td>4</td>\n",
       "      <td>10280</td>\n",
       "      <td>16</td>\n",
       "      <td>2249</td>\n",
       "      <td>1</td>\n",
       "      <td>0</td>\n",
       "      <td>1</td>\n",
       "      <td>12644</td>\n",
       "      <td>594</td>\n",
       "      <td>1981</td>\n",
       "      <td>...</td>\n",
       "      <td>0</td>\n",
       "      <td>0</td>\n",
       "      <td>0</td>\n",
       "      <td>0</td>\n",
       "      <td>0</td>\n",
       "      <td>0</td>\n",
       "      <td>0</td>\n",
       "      <td>0</td>\n",
       "      <td>0</td>\n",
       "      <td>0</td>\n",
       "    </tr>\n",
       "    <tr>\n",
       "      <th>16809</th>\n",
       "      <td>4</td>\n",
       "      <td>10031</td>\n",
       "      <td>2065</td>\n",
       "      <td>22</td>\n",
       "      <td>16</td>\n",
       "      <td>1</td>\n",
       "      <td>17</td>\n",
       "      <td>4996</td>\n",
       "      <td>29529</td>\n",
       "      <td>2007</td>\n",
       "      <td>...</td>\n",
       "      <td>0</td>\n",
       "      <td>0</td>\n",
       "      <td>0</td>\n",
       "      <td>0</td>\n",
       "      <td>0</td>\n",
       "      <td>0</td>\n",
       "      <td>0</td>\n",
       "      <td>0</td>\n",
       "      <td>0</td>\n",
       "      <td>0</td>\n",
       "    </tr>\n",
       "  </tbody>\n",
       "</table>\n",
       "<p>5 rows × 33010 columns</p>\n",
       "</div>"
      ],
      "text/plain": [
       "       Borough  ZipCode  Block   Lot  NoOfResidentialUnits  \\\n",
       "16805        4    10007    123  1213                     1   \n",
       "16806        4    10013    176  1054                     1   \n",
       "16807        4    10013    176  1102                     1   \n",
       "16808        4    10280     16  2249                     1   \n",
       "16809        4    10031   2065    22                    16   \n",
       "\n",
       "       NoOfCommercialUnits  TotalNoOfUnits  LandAreaInSqFt  GrossAreaInSqFt  \\\n",
       "16805                    0               1           29715             2803   \n",
       "16806                    0               1           12518             2252   \n",
       "16807                    0               1           12518             2177   \n",
       "16808                    0               1           12644              594   \n",
       "16809                    1              17            4996            29529   \n",
       "\n",
       "       YearOfConstruction  ...  DateOfEvaluation_31-05-2013  \\\n",
       "16805                2004  ...                            0   \n",
       "16806                2003  ...                            0   \n",
       "16807                2003  ...                            0   \n",
       "16808                1981  ...                            0   \n",
       "16809                2007  ...                            0   \n",
       "\n",
       "       DateOfEvaluation_31-05-2014  DateOfEvaluation_31-07-2013  \\\n",
       "16805                            0                            0   \n",
       "16806                            0                            0   \n",
       "16807                            0                            0   \n",
       "16808                            0                            0   \n",
       "16809                            0                            0   \n",
       "\n",
       "       DateOfEvaluation_31-07-2014  DateOfEvaluation_31-08-2012  \\\n",
       "16805                            0                            0   \n",
       "16806                            0                            0   \n",
       "16807                            0                            0   \n",
       "16808                            0                            0   \n",
       "16809                            0                            0   \n",
       "\n",
       "       DateOfEvaluation_31-08-2014  DateOfEvaluation_31-10-2012  \\\n",
       "16805                            0                            0   \n",
       "16806                            0                            0   \n",
       "16807                            0                            0   \n",
       "16808                            0                            0   \n",
       "16809                            0                            0   \n",
       "\n",
       "       DateOfEvaluation_31-10-2014  DateOfEvaluation_31-12-2012  \\\n",
       "16805                            0                            0   \n",
       "16806                            0                            0   \n",
       "16807                            0                            0   \n",
       "16808                            0                            0   \n",
       "16809                            0                            0   \n",
       "\n",
       "       DateOfEvaluation_31-12-2014  \n",
       "16805                            0  \n",
       "16806                            0  \n",
       "16807                            0  \n",
       "16808                            0  \n",
       "16809                            0  \n",
       "\n",
       "[5 rows x 33010 columns]"
      ]
     },
     "execution_count": 28,
     "metadata": {},
     "output_type": "execute_result"
    }
   ],
   "source": [
    "df.tail() # checking the last 5 rows of data "
   ]
  },
  {
   "cell_type": "code",
   "execution_count": 12,
   "id": "a9f46bf2",
   "metadata": {},
   "outputs": [
    {
     "data": {
      "text/plain": [
       "(16810, 19)"
      ]
     },
     "execution_count": 12,
     "metadata": {},
     "output_type": "execute_result"
    }
   ],
   "source": [
    "df.shape #checking the shape of the data"
   ]
  },
  {
   "cell_type": "code",
   "execution_count": 14,
   "id": "9eb791b0",
   "metadata": {},
   "outputs": [
    {
     "data": {
      "text/html": [
       "<div>\n",
       "<style scoped>\n",
       "    .dataframe tbody tr th:only-of-type {\n",
       "        vertical-align: middle;\n",
       "    }\n",
       "\n",
       "    .dataframe tbody tr th {\n",
       "        vertical-align: top;\n",
       "    }\n",
       "\n",
       "    .dataframe thead th {\n",
       "        text-align: right;\n",
       "    }\n",
       "</style>\n",
       "<table border=\"1\" class=\"dataframe\">\n",
       "  <thead>\n",
       "    <tr style=\"text-align: right;\">\n",
       "      <th></th>\n",
       "      <th>Borough</th>\n",
       "      <th>ZipCode</th>\n",
       "      <th>Block</th>\n",
       "      <th>Lot</th>\n",
       "      <th>NoOfResidentialUnits</th>\n",
       "      <th>NoOfCommercialUnits</th>\n",
       "      <th>TotalNoOfUnits</th>\n",
       "      <th>LandAreaInSqFt</th>\n",
       "      <th>GrossAreaInSqFt</th>\n",
       "      <th>YearOfConstruction</th>\n",
       "      <th>TaxClass_AtEvaluationTime</th>\n",
       "      <th>PropertyEvaluationvalue</th>\n",
       "    </tr>\n",
       "  </thead>\n",
       "  <tbody>\n",
       "    <tr>\n",
       "      <th>count</th>\n",
       "      <td>16810.000000</td>\n",
       "      <td>16810.000000</td>\n",
       "      <td>16810.000000</td>\n",
       "      <td>16810.000000</td>\n",
       "      <td>16810.000000</td>\n",
       "      <td>16810.000000</td>\n",
       "      <td>16810.000000</td>\n",
       "      <td>1.681000e+04</td>\n",
       "      <td>1.681000e+04</td>\n",
       "      <td>16810.000000</td>\n",
       "      <td>16810.000000</td>\n",
       "      <td>1.681000e+04</td>\n",
       "    </tr>\n",
       "    <tr>\n",
       "      <th>mean</th>\n",
       "      <td>3.439143</td>\n",
       "      <td>10871.027543</td>\n",
       "      <td>5428.122308</td>\n",
       "      <td>266.327722</td>\n",
       "      <td>1.862225</td>\n",
       "      <td>0.137775</td>\n",
       "      <td>2.000000</td>\n",
       "      <td>1.092492e+04</td>\n",
       "      <td>3.612157e+03</td>\n",
       "      <td>1973.982867</td>\n",
       "      <td>1.289530</td>\n",
       "      <td>8.084101e+05</td>\n",
       "    </tr>\n",
       "    <tr>\n",
       "      <th>std</th>\n",
       "      <td>1.398950</td>\n",
       "      <td>522.996869</td>\n",
       "      <td>3710.031921</td>\n",
       "      <td>542.420132</td>\n",
       "      <td>8.027805</td>\n",
       "      <td>2.185857</td>\n",
       "      <td>8.472771</td>\n",
       "      <td>5.837620e+04</td>\n",
       "      <td>1.627378e+04</td>\n",
       "      <td>23.632595</td>\n",
       "      <td>0.713779</td>\n",
       "      <td>8.978317e+05</td>\n",
       "    </tr>\n",
       "    <tr>\n",
       "      <th>min</th>\n",
       "      <td>1.000000</td>\n",
       "      <td>10001.000000</td>\n",
       "      <td>6.000000</td>\n",
       "      <td>1.000000</td>\n",
       "      <td>0.000000</td>\n",
       "      <td>0.000000</td>\n",
       "      <td>1.000000</td>\n",
       "      <td>1.000000e+00</td>\n",
       "      <td>1.000000e+00</td>\n",
       "      <td>1941.000000</td>\n",
       "      <td>1.000000</td>\n",
       "      <td>1.000440e+05</td>\n",
       "    </tr>\n",
       "    <tr>\n",
       "      <th>25%</th>\n",
       "      <td>2.000000</td>\n",
       "      <td>10312.000000</td>\n",
       "      <td>2401.250000</td>\n",
       "      <td>25.000000</td>\n",
       "      <td>1.000000</td>\n",
       "      <td>0.000000</td>\n",
       "      <td>1.000000</td>\n",
       "      <td>2.100000e+03</td>\n",
       "      <td>1.224000e+03</td>\n",
       "      <td>1951.000000</td>\n",
       "      <td>1.000000</td>\n",
       "      <td>4.250000e+05</td>\n",
       "    </tr>\n",
       "    <tr>\n",
       "      <th>50%</th>\n",
       "      <td>3.000000</td>\n",
       "      <td>11207.000000</td>\n",
       "      <td>5050.000000</td>\n",
       "      <td>52.000000</td>\n",
       "      <td>1.000000</td>\n",
       "      <td>0.000000</td>\n",
       "      <td>1.000000</td>\n",
       "      <td>3.200000e+03</td>\n",
       "      <td>1.750000e+03</td>\n",
       "      <td>1968.000000</td>\n",
       "      <td>1.000000</td>\n",
       "      <td>5.900000e+05</td>\n",
       "    </tr>\n",
       "    <tr>\n",
       "      <th>75%</th>\n",
       "      <td>5.000000</td>\n",
       "      <td>11364.000000</td>\n",
       "      <td>7376.750000</td>\n",
       "      <td>138.000000</td>\n",
       "      <td>2.000000</td>\n",
       "      <td>0.000000</td>\n",
       "      <td>2.000000</td>\n",
       "      <td>5.000000e+03</td>\n",
       "      <td>2.449750e+03</td>\n",
       "      <td>1998.000000</td>\n",
       "      <td>1.000000</td>\n",
       "      <td>8.450000e+05</td>\n",
       "    </tr>\n",
       "    <tr>\n",
       "      <th>max</th>\n",
       "      <td>5.000000</td>\n",
       "      <td>11694.000000</td>\n",
       "      <td>16314.000000</td>\n",
       "      <td>5323.000000</td>\n",
       "      <td>437.000000</td>\n",
       "      <td>252.000000</td>\n",
       "      <td>437.000000</td>\n",
       "      <td>5.612000e+06</td>\n",
       "      <td>1.172005e+06</td>\n",
       "      <td>2012.000000</td>\n",
       "      <td>4.000000</td>\n",
       "      <td>9.935000e+06</td>\n",
       "    </tr>\n",
       "  </tbody>\n",
       "</table>\n",
       "</div>"
      ],
      "text/plain": [
       "            Borough       ZipCode         Block           Lot  \\\n",
       "count  16810.000000  16810.000000  16810.000000  16810.000000   \n",
       "mean       3.439143  10871.027543   5428.122308    266.327722   \n",
       "std        1.398950    522.996869   3710.031921    542.420132   \n",
       "min        1.000000  10001.000000      6.000000      1.000000   \n",
       "25%        2.000000  10312.000000   2401.250000     25.000000   \n",
       "50%        3.000000  11207.000000   5050.000000     52.000000   \n",
       "75%        5.000000  11364.000000   7376.750000    138.000000   \n",
       "max        5.000000  11694.000000  16314.000000   5323.000000   \n",
       "\n",
       "       NoOfResidentialUnits  NoOfCommercialUnits  TotalNoOfUnits  \\\n",
       "count          16810.000000         16810.000000    16810.000000   \n",
       "mean               1.862225             0.137775        2.000000   \n",
       "std                8.027805             2.185857        8.472771   \n",
       "min                0.000000             0.000000        1.000000   \n",
       "25%                1.000000             0.000000        1.000000   \n",
       "50%                1.000000             0.000000        1.000000   \n",
       "75%                2.000000             0.000000        2.000000   \n",
       "max              437.000000           252.000000      437.000000   \n",
       "\n",
       "       LandAreaInSqFt  GrossAreaInSqFt  YearOfConstruction  \\\n",
       "count    1.681000e+04     1.681000e+04        16810.000000   \n",
       "mean     1.092492e+04     3.612157e+03         1973.982867   \n",
       "std      5.837620e+04     1.627378e+04           23.632595   \n",
       "min      1.000000e+00     1.000000e+00         1941.000000   \n",
       "25%      2.100000e+03     1.224000e+03         1951.000000   \n",
       "50%      3.200000e+03     1.750000e+03         1968.000000   \n",
       "75%      5.000000e+03     2.449750e+03         1998.000000   \n",
       "max      5.612000e+06     1.172005e+06         2012.000000   \n",
       "\n",
       "       TaxClass_AtEvaluationTime  PropertyEvaluationvalue  \n",
       "count               16810.000000             1.681000e+04  \n",
       "mean                    1.289530             8.084101e+05  \n",
       "std                     0.713779             8.978317e+05  \n",
       "min                     1.000000             1.000440e+05  \n",
       "25%                     1.000000             4.250000e+05  \n",
       "50%                     1.000000             5.900000e+05  \n",
       "75%                     1.000000             8.450000e+05  \n",
       "max                     4.000000             9.935000e+06  "
      ]
     },
     "execution_count": 14,
     "metadata": {},
     "output_type": "execute_result"
    }
   ],
   "source": [
    "df.describe() #Describing the dataset for ease of understanding"
   ]
  },
  {
   "cell_type": "code",
   "execution_count": 14,
   "id": "d0dc85ba",
   "metadata": {},
   "outputs": [
    {
     "data": {
      "text/plain": [
       "PropertyID                    object\n",
       "Borough                        int64\n",
       "State                         object\n",
       "Surroundings                  object\n",
       "Address                       object\n",
       "ZipCode                        int64\n",
       "Block                          int64\n",
       "Lot                            int64\n",
       "BldgClassCategory             object\n",
       "NoOfResidentialUnits           int64\n",
       "NoOfCommercialUnits            int64\n",
       "TotalNoOfUnits                 int64\n",
       "LandAreaInSqFt                 int64\n",
       "GrossAreaInSqFt                int64\n",
       "YearOfConstruction             int64\n",
       "TaxClass_AtEvaluationTime      int64\n",
       "BldgClass_AtEvaluationTime    object\n",
       "DateOfEvaluation              object\n",
       "PropertyEvaluationvalue        int64\n",
       "dtype: object"
      ]
     },
     "execution_count": 14,
     "metadata": {},
     "output_type": "execute_result"
    }
   ],
   "source": [
    "df.dtypes #checking the datatypes of each feature"
   ]
  },
  {
   "cell_type": "code",
   "execution_count": 16,
   "id": "ac7f216a",
   "metadata": {},
   "outputs": [
    {
     "data": {
      "text/plain": [
       "16810"
      ]
     },
     "execution_count": 16,
     "metadata": {},
     "output_type": "execute_result"
    }
   ],
   "source": [
    "df.shape[0] #finding the number of rows\n"
   ]
  },
  {
   "cell_type": "code",
   "execution_count": 16,
   "id": "b2518cb5",
   "metadata": {},
   "outputs": [
    {
     "data": {
      "text/plain": [
       "19"
      ]
     },
     "execution_count": 16,
     "metadata": {},
     "output_type": "execute_result"
    }
   ],
   "source": [
    "df.shape[1] #finding the number of columns"
   ]
  },
  {
   "cell_type": "markdown",
   "id": "c91b05db",
   "metadata": {},
   "source": [
    "# VISUALIZATION"
   ]
  },
  {
   "cell_type": "code",
   "execution_count": 8,
   "id": "a7c3f03b",
   "metadata": {},
   "outputs": [
    {
     "data": {
      "image/png": "[encoded data removed]",
      "text/plain": [
       "<Figure size 1440x1440 with 12 Axes>"
      ]
     },
     "metadata": {
      "needs_background": "light"
     },
     "output_type": "display_data"
    }
   ],
   "source": [
    "# To understand how various features are distributed\n",
    "df.hist(figsize=(20,20))\n",
    "plt.show()"
   ]
  },
  {
   "cell_type": "raw",
   "id": "d50ef0a9",
   "metadata": {},
   "source": [
    "Understand the correlation between various features in the dataset\n",
    "1) Positive Correlation\n",
    "2) Negative Correlation"
   ]
  },
  {
   "cell_type": "code",
   "execution_count": 17,
   "id": "e23b47af",
   "metadata": {},
   "outputs": [],
   "source": [
    "#To find correlation between features\n",
    "corr = df.corr()"
   ]
  },
  {
   "cell_type": "code",
   "execution_count": 5,
   "id": "4fc88162",
   "metadata": {},
   "outputs": [
    {
     "data": {
      "text/plain": [
       "(12, 12)"
      ]
     },
     "execution_count": 5,
     "metadata": {},
     "output_type": "execute_result"
    }
   ],
   "source": [
    "corr.shape"
   ]
  },
  {
   "cell_type": "code",
   "execution_count": 7,
   "id": "fdfee183",
   "metadata": {},
   "outputs": [
    {
     "data": {
      "text/plain": [
       "<AxesSubplot:>"
      ]
     },
     "execution_count": 7,
     "metadata": {},
     "output_type": "execute_result"
    },
    {
     "data": {
      "image/png": "[encoded data removed]",
      "text/plain": [
       "<Figure size 720x720 with 2 Axes>"
      ]
     },
     "metadata": {
      "needs_background": "light"
     },
     "output_type": "display_data"
    }
   ],
   "source": [
    "#Plotting the heatmap of correlation between features\n",
    "# constructing a heatmap to understand the correlation\n",
    "plt.figure(figsize=(10,10))\n",
    "sns.heatmap(corr, cbar=True, square=True, fmt='.1f', annot=True, annot_kws={'size':8}, cmap='Purples')"
   ]
  },
  {
   "cell_type": "markdown",
   "id": "408a187f",
   "metadata": {},
   "source": [
    "# TASK 4"
   ]
  },
  {
   "cell_type": "markdown",
   "id": "84877c60",
   "metadata": {},
   "source": [
    "\n",
    "Splitting the data and Target"
   ]
  },
  {
   "cell_type": "code",
   "execution_count": 10,
   "id": "832bcbea",
   "metadata": {},
   "outputs": [],
   "source": [
    "from sklearn.model_selection import train_test_split #importing the library"
   ]
  },
  {
   "cell_type": "code",
   "execution_count": 11,
   "id": "6825ccc6",
   "metadata": {},
   "outputs": [],
   "source": [
    "#Splitting target variable and independent variables\n",
    "X = df.drop(['PropertyEvaluationvalue'], axis = 1)\n",
    "y = df['PropertyEvaluationvalue'] "
   ]
  },
  {
   "cell_type": "code",
   "execution_count": 12,
   "id": "43a8ab7e",
   "metadata": {},
   "outputs": [],
   "source": [
    "#Splitting to traing and testing data\n",
    "X_train,X_test,y_train,y_test=train_test_split(X,y,test_size=0.20,random_state=2)"
   ]
  },
  {
   "cell_type": "code",
   "execution_count": 13,
   "id": "aac2986d",
   "metadata": {},
   "outputs": [
    {
     "name": "stdout",
     "output_type": "stream",
     "text": [
      "(13448, 18)\n",
      "(3362, 18)\n",
      "(13448,)\n",
      "(3362,)\n"
     ]
    }
   ],
   "source": [
    "print(X_train.shape)\n",
    "print(X_test.shape)\n",
    "print(y_train.shape)\n",
    "print(y_test.shape)"
   ]
  },
  {
   "cell_type": "markdown",
   "id": "8c3b7c08",
   "metadata": {},
   "source": [
    "# Task 5"
   ]
  },
  {
   "cell_type": "markdown",
   "id": "53026ef9",
   "metadata": {},
   "source": [
    "# Using The Random Forest Regressor"
   ]
  },
  {
   "cell_type": "markdown",
   "id": "4c0e3a91",
   "metadata": {},
   "source": [
    "# 5.1 First Train the Model"
   ]
  },
  {
   "cell_type": "code",
   "execution_count": 69,
   "id": "c8a4c2f5",
   "metadata": {},
   "outputs": [],
   "source": [
    "from sklearn.ensemble import RandomForestRegressor\n",
    "from sklearn.preprocessing import LabelEncoder\n",
    "from sklearn.model_selection import train_test_split\n",
    "from sklearn.linear_model import LinearRegression\n",
    "from sklearn import metrics"
   ]
  },
  {
   "cell_type": "code",
   "execution_count": 67,
   "id": "505888e5",
   "metadata": {},
   "outputs": [],
   "source": [
    "#Import Random Forest Regressor\n",
    "from sklearn.ensemble import RandomForestRegressor"
   ]
  },
  {
   "cell_type": "code",
   "execution_count": 47,
   "id": "ec4ac7c4",
   "metadata": {},
   "outputs": [
    {
     "data": {
      "text/html": [
       "<style>#sk-container-id-1 {color: black;background-color: white;}#sk-container-id-1 pre{padding: 0;}#sk-container-id-1 div.sk-toggleable {background-color: white;}#sk-container-id-1 label.sk-toggleable__label {cursor: pointer;display: block;width: 100%;margin-bottom: 0;padding: 0.3em;box-sizing: border-box;text-align: center;}#sk-container-id-1 label.sk-toggleable__label-arrow:before {content: \"▸\";float: left;margin-right: 0.25em;color: #696969;}#sk-container-id-1 label.sk-toggleable__label-arrow:hover:before {color: black;}#sk-container-id-1 div.sk-estimator:hover label.sk-toggleable__label-arrow:before {color: black;}#sk-container-id-1 div.sk-toggleable__content {max-height: 0;max-width: 0;overflow: hidden;text-align: left;background-color: #f0f8ff;}#sk-container-id-1 div.sk-toggleable__content pre {margin: 0.2em;color: black;border-radius: 0.25em;background-color: #f0f8ff;}#sk-container-id-1 input.sk-toggleable__control:checked~div.sk-toggleable__content {max-height: 200px;max-width: 100%;overflow: auto;}#sk-container-id-1 input.sk-toggleable__control:checked~label.sk-toggleable__label-arrow:before {content: \"▾\";}#sk-container-id-1 div.sk-estimator input.sk-toggleable__control:checked~label.sk-toggleable__label {background-color: #d4ebff;}#sk-container-id-1 div.sk-label input.sk-toggleable__control:checked~label.sk-toggleable__label {background-color: #d4ebff;}#sk-container-id-1 input.sk-hidden--visually {border: 0;clip: rect(1px 1px 1px 1px);clip: rect(1px, 1px, 1px, 1px);height: 1px;margin: -1px;overflow: hidden;padding: 0;position: absolute;width: 1px;}#sk-container-id-1 div.sk-estimator {font-family: monospace;background-color: #f0f8ff;border: 1px dotted black;border-radius: 0.25em;box-sizing: border-box;margin-bottom: 0.5em;}#sk-container-id-1 div.sk-estimator:hover {background-color: #d4ebff;}#sk-container-id-1 div.sk-parallel-item::after {content: \"\";width: 100%;border-bottom: 1px solid gray;flex-grow: 1;}#sk-container-id-1 div.sk-label:hover label.sk-toggleable__label {background-color: #d4ebff;}#sk-container-id-1 div.sk-serial::before {content: \"\";position: absolute;border-left: 1px solid gray;box-sizing: border-box;top: 0;bottom: 0;left: 50%;z-index: 0;}#sk-container-id-1 div.sk-serial {display: flex;flex-direction: column;align-items: center;background-color: white;padding-right: 0.2em;padding-left: 0.2em;position: relative;}#sk-container-id-1 div.sk-item {position: relative;z-index: 1;}#sk-container-id-1 div.sk-parallel {display: flex;align-items: stretch;justify-content: center;background-color: white;position: relative;}#sk-container-id-1 div.sk-item::before, #sk-container-id-1 div.sk-parallel-item::before {content: \"\";position: absolute;border-left: 1px solid gray;box-sizing: border-box;top: 0;bottom: 0;left: 50%;z-index: -1;}#sk-container-id-1 div.sk-parallel-item {display: flex;flex-direction: column;z-index: 1;position: relative;background-color: white;}#sk-container-id-1 div.sk-parallel-item:first-child::after {align-self: flex-end;width: 50%;}#sk-container-id-1 div.sk-parallel-item:last-child::after {align-self: flex-start;width: 50%;}#sk-container-id-1 div.sk-parallel-item:only-child::after {width: 0;}#sk-container-id-1 div.sk-dashed-wrapped {border: 1px dashed gray;margin: 0 0.4em 0.5em 0.4em;box-sizing: border-box;padding-bottom: 0.4em;background-color: white;}#sk-container-id-1 div.sk-label label {font-family: monospace;font-weight: bold;display: inline-block;line-height: 1.2em;}#sk-container-id-1 div.sk-label-container {text-align: center;}#sk-container-id-1 div.sk-container {/* jupyter's `normalize.less` sets `[hidden] { display: none; }` but bootstrap.min.css set `[hidden] { display: none !important; }` so we also need the `!important` here to be able to override the default hidden behavior on the sphinx rendered scikit-learn.org. See: https://github.com/scikit-learn/scikit-learn/issues/21755 */display: inline-block !important;position: relative;}#sk-container-id-1 div.sk-text-repr-fallback {display: none;}</style><div id=\"sk-container-id-1\" class=\"sk-top-container\"><div class=\"sk-text-repr-fallback\"><pre>RandomForestRegressor()</pre><b>In a Jupyter environment, please rerun this cell to show the HTML representation or trust the notebook. <br />On GitHub, the HTML representation is unable to render, please try loading this page with nbviewer.org.</b></div><div class=\"sk-container\" hidden><div class=\"sk-item\"><div class=\"sk-estimator sk-toggleable\"><input class=\"sk-toggleable__control sk-hidden--visually\" id=\"sk-estimator-id-1\" type=\"checkbox\" checked><label for=\"sk-estimator-id-1\" class=\"sk-toggleable__label sk-toggleable__label-arrow\">RandomForestRegressor</label><div class=\"sk-toggleable__content\"><pre>RandomForestRegressor()</pre></div></div></div></div></div>"
      ],
      "text/plain": [
       "RandomForestRegressor()"
      ]
     },
     "execution_count": 47,
     "metadata": {},
     "output_type": "execute_result"
    }
   ],
   "source": [
    "#Create a Random Forest Regressor\n",
    "reg = RandomForestRegressor()"
   ]
  },
  {
   "cell_type": "code",
   "execution_count": 68,
   "id": "393bc19b",
   "metadata": {},
   "outputs": [
    {
     "data": {
      "text/html": [
       "<style>#sk-container-id-2 {color: black;background-color: white;}#sk-container-id-2 pre{padding: 0;}#sk-container-id-2 div.sk-toggleable {background-color: white;}#sk-container-id-2 label.sk-toggleable__label {cursor: pointer;display: block;width: 100%;margin-bottom: 0;padding: 0.3em;box-sizing: border-box;text-align: center;}#sk-container-id-2 label.sk-toggleable__label-arrow:before {content: \"▸\";float: left;margin-right: 0.25em;color: #696969;}#sk-container-id-2 label.sk-toggleable__label-arrow:hover:before {color: black;}#sk-container-id-2 div.sk-estimator:hover label.sk-toggleable__label-arrow:before {color: black;}#sk-container-id-2 div.sk-toggleable__content {max-height: 0;max-width: 0;overflow: hidden;text-align: left;background-color: #f0f8ff;}#sk-container-id-2 div.sk-toggleable__content pre {margin: 0.2em;color: black;border-radius: 0.25em;background-color: #f0f8ff;}#sk-container-id-2 input.sk-toggleable__control:checked~div.sk-toggleable__content {max-height: 200px;max-width: 100%;overflow: auto;}#sk-container-id-2 input.sk-toggleable__control:checked~label.sk-toggleable__label-arrow:before {content: \"▾\";}#sk-container-id-2 div.sk-estimator input.sk-toggleable__control:checked~label.sk-toggleable__label {background-color: #d4ebff;}#sk-container-id-2 div.sk-label input.sk-toggleable__control:checked~label.sk-toggleable__label {background-color: #d4ebff;}#sk-container-id-2 input.sk-hidden--visually {border: 0;clip: rect(1px 1px 1px 1px);clip: rect(1px, 1px, 1px, 1px);height: 1px;margin: -1px;overflow: hidden;padding: 0;position: absolute;width: 1px;}#sk-container-id-2 div.sk-estimator {font-family: monospace;background-color: #f0f8ff;border: 1px dotted black;border-radius: 0.25em;box-sizing: border-box;margin-bottom: 0.5em;}#sk-container-id-2 div.sk-estimator:hover {background-color: #d4ebff;}#sk-container-id-2 div.sk-parallel-item::after {content: \"\";width: 100%;border-bottom: 1px solid gray;flex-grow: 1;}#sk-container-id-2 div.sk-label:hover label.sk-toggleable__label {background-color: #d4ebff;}#sk-container-id-2 div.sk-serial::before {content: \"\";position: absolute;border-left: 1px solid gray;box-sizing: border-box;top: 0;bottom: 0;left: 50%;z-index: 0;}#sk-container-id-2 div.sk-serial {display: flex;flex-direction: column;align-items: center;background-color: white;padding-right: 0.2em;padding-left: 0.2em;position: relative;}#sk-container-id-2 div.sk-item {position: relative;z-index: 1;}#sk-container-id-2 div.sk-parallel {display: flex;align-items: stretch;justify-content: center;background-color: white;position: relative;}#sk-container-id-2 div.sk-item::before, #sk-container-id-2 div.sk-parallel-item::before {content: \"\";position: absolute;border-left: 1px solid gray;box-sizing: border-box;top: 0;bottom: 0;left: 50%;z-index: -1;}#sk-container-id-2 div.sk-parallel-item {display: flex;flex-direction: column;z-index: 1;position: relative;background-color: white;}#sk-container-id-2 div.sk-parallel-item:first-child::after {align-self: flex-end;width: 50%;}#sk-container-id-2 div.sk-parallel-item:last-child::after {align-self: flex-start;width: 50%;}#sk-container-id-2 div.sk-parallel-item:only-child::after {width: 0;}#sk-container-id-2 div.sk-dashed-wrapped {border: 1px dashed gray;margin: 0 0.4em 0.5em 0.4em;box-sizing: border-box;padding-bottom: 0.4em;background-color: white;}#sk-container-id-2 div.sk-label label {font-family: monospace;font-weight: bold;display: inline-block;line-height: 1.2em;}#sk-container-id-2 div.sk-label-container {text-align: center;}#sk-container-id-2 div.sk-container {/* jupyter's `normalize.less` sets `[hidden] { display: none; }` but bootstrap.min.css set `[hidden] { display: none !important; }` so we also need the `!important` here to be able to override the default hidden behavior on the sphinx rendered scikit-learn.org. See: https://github.com/scikit-learn/scikit-learn/issues/21755 */display: inline-block !important;position: relative;}#sk-container-id-2 div.sk-text-repr-fallback {display: none;}</style><div id=\"sk-container-id-2\" class=\"sk-top-container\"><div class=\"sk-text-repr-fallback\"><pre>RandomForestRegressor()</pre><b>In a Jupyter environment, please rerun this cell to show the HTML representation or trust the notebook. <br />On GitHub, the HTML representation is unable to render, please try loading this page with nbviewer.org.</b></div><div class=\"sk-container\" hidden><div class=\"sk-item\"><div class=\"sk-estimator sk-toggleable\"><input class=\"sk-toggleable__control sk-hidden--visually\" id=\"sk-estimator-id-2\" type=\"checkbox\" checked><label for=\"sk-estimator-id-2\" class=\"sk-toggleable__label sk-toggleable__label-arrow\">RandomForestRegressor</label><div class=\"sk-toggleable__content\"><pre>RandomForestRegressor()</pre></div></div></div></div></div>"
      ],
      "text/plain": [
       "RandomForestRegressor()"
      ]
     },
     "execution_count": 68,
     "metadata": {},
     "output_type": "execute_result"
    }
   ],
   "source": [
    "#Train the model using the training sets\n",
    "reg.fit(X_train, y_train)"
   ]
  },
  {
   "cell_type": "markdown",
   "id": "6e09502b",
   "metadata": {},
   "source": [
    "# 5.2 Now perform Model Evaluation"
   ]
  },
  {
   "cell_type": "code",
   "execution_count": 55,
   "id": "41c9754e",
   "metadata": {},
   "outputs": [],
   "source": [
    "#ModelPrediction on Train Data\n",
    "y_pred = reg.predict(X_train)\n"
   ]
  },
  {
   "cell_type": "code",
   "execution_count": 56,
   "id": "05e4f115",
   "metadata": {},
   "outputs": [
    {
     "name": "stdout",
     "output_type": "stream",
     "text": [
      "R^2: 0.9589622581126392\n"
     ]
    }
   ],
   "source": [
    "#Model Evaluation\n",
    "print('R^2:',metrics.r2_score(y_train, y_pred))"
   ]
  },
  {
   "cell_type": "markdown",
   "id": "4fa2f82f",
   "metadata": {},
   "source": [
    "Visualizing the PropertyEvaluationvalue and Predicted PropertyEvaluationvalue"
   ]
  },
  {
   "cell_type": "code",
   "execution_count": 57,
   "id": "f517421d",
   "metadata": {},
   "outputs": [
    {
     "data": {
      "image/png": "[encoded data removed]",
      "text/plain": [
       "<Figure size 432x288 with 1 Axes>"
      ]
     },
     "metadata": {
      "needs_background": "light"
     },
     "output_type": "display_data"
    }
   ],
   "source": [
    "plt.scatter(y_train, y_pred)\n",
    "plt.xlabel(\"PropertyEvaluationvalue\")\n",
    "plt.ylabel(\"Predicted PropertyEvaluationValue\")\n",
    "plt.title(\"Prices vs Predicted prices\")\n",
    "plt.show()"
   ]
  },
  {
   "cell_type": "markdown",
   "id": "1161266a",
   "metadata": {},
   "source": [
    "# 5.3 Prediction on Test Data"
   ]
  },
  {
   "cell_type": "code",
   "execution_count": 59,
   "id": "25d62cbf",
   "metadata": {},
   "outputs": [],
   "source": [
    "#Predicting Test data with the model\n",
    "y_test_pred = reg.predict(X_test)"
   ]
  },
  {
   "cell_type": "code",
   "execution_count": 60,
   "id": "527b0ef1",
   "metadata": {},
   "outputs": [
    {
     "name": "stdout",
     "output_type": "stream",
     "text": [
      "R^2: 0.6871949683378946\n"
     ]
    }
   ],
   "source": [
    "#Model Evaluation\n",
    "acc_rf = metrics.r2_score(y_test, y_test_pred)\n",
    "print('R^2:', acc_rf)"
   ]
  },
  {
   "cell_type": "code",
   "execution_count": 7,
   "id": "c392a2c8",
   "metadata": {},
   "outputs": [],
   "source": [
    "df.to_csv('data.csv')"
   ]
  },
  {
   "cell_type": "code",
   "execution_count": null,
   "id": "d7a7e91b",
   "metadata": {},
   "outputs": [],
   "source": []
  }
 ],
 "metadata": {
  "kernelspec": {
   "display_name": "Python 3 (ipykernel)",
   "language": "python",
   "name": "python3"
  },
  "language_info": {
   "codemirror_mode": {
    "name": "ipython",
    "version": 3
   },
   "file_extension": ".py",
   "mimetype": "text/x-python",
   "name": "python",
   "nbconvert_exporter": "python",
   "pygments_lexer": "ipython3",
   "version": "3.9.12"
  }
 },
 "nbformat": 4,
 "nbformat_minor": 5
}
